{
 "cells": [
  {
   "cell_type": "code",
   "execution_count": 6,
   "metadata": {
    "collapsed": true,
    "pycharm": {
     "name": "#%%\n"
    }
   },
   "outputs": [
    {
     "name": "stdout",
     "output_type": "stream",
     "text": [
      "2.3.1+cpu\n",
      "2.3.1+cpu\n"
     ]
    }
   ],
   "source": [
    "import torch\n",
    "import torchaudio\n",
    "import torchaudio.functional as F\n",
    "\n",
    "print(torch.__version__)\n",
    "print(torchaudio.__version__)\n",
    "\n",
    "import matplotlib.pyplot as plt"
   ]
  },
  {
   "cell_type": "code",
   "execution_count": 7,
   "outputs": [],
   "source": [
    "from IPython.display import Audio\n",
    "\n",
    "from torchaudio.utils import download_asset\n",
    "\n",
    "SAMPLE_WAV = download_asset(\"tutorial-assets/steam-train-whistle-daniel_simon.wav\")\n",
    "SAMPLE_RIR = download_asset(\"tutorial-assets/Lab41-SRI-VOiCES-rm1-impulse-mc01-stu-clo-8000hz.wav\")\n",
    "SAMPLE_SPEECH = download_asset(\"tutorial-assets/Lab41-SRI-VOiCES-src-sp0307-ch127535-sg0042-8000hz.wav\")\n",
    "SAMPLE_NOISE = download_asset(\"tutorial-assets/Lab41-SRI-VOiCES-rm1-babb-mc01-stu-clo-8000hz.wav\")"
   ],
   "metadata": {
    "collapsed": false,
    "pycharm": {
     "name": "#%%\n"
    }
   }
  },
  {
   "cell_type": "code",
   "execution_count": 8,
   "outputs": [
    {
     "ename": "RuntimeError",
     "evalue": "Couldn't find appropriate backend to handle uri C:\\Users\\20887\\.cache\\torch\\hub\\torchaudio\\tutorial-assets\\steam-train-whistle-daniel_simon.wav and format None.",
     "output_type": "error",
     "traceback": [
      "\u001B[1;31m---------------------------------------------------------------------------\u001B[0m",
      "\u001B[1;31mRuntimeError\u001B[0m                              Traceback (most recent call last)",
      "Cell \u001B[1;32mIn[8], line 3\u001B[0m\n\u001B[0;32m      1\u001B[0m \u001B[38;5;66;03m# Load the data\u001B[39;00m\n\u001B[1;32m----> 3\u001B[0m waveform1, sample_rate \u001B[38;5;241m=\u001B[39m \u001B[43mtorchaudio\u001B[49m\u001B[38;5;241;43m.\u001B[39;49m\u001B[43mload\u001B[49m\u001B[43m(\u001B[49m\u001B[43mSAMPLE_WAV\u001B[49m\u001B[43m,\u001B[49m\u001B[43m \u001B[49m\u001B[43mchannels_first\u001B[49m\u001B[38;5;241;43m=\u001B[39;49m\u001B[38;5;28;43;01mFalse\u001B[39;49;00m\u001B[43m)\u001B[49m\n\u001B[0;32m      5\u001B[0m \u001B[38;5;66;03m# Define effects\u001B[39;00m\n\u001B[0;32m      6\u001B[0m effect \u001B[38;5;241m=\u001B[39m \u001B[38;5;124m\"\u001B[39m\u001B[38;5;124m,\u001B[39m\u001B[38;5;124m\"\u001B[39m\u001B[38;5;241m.\u001B[39mjoin(\n\u001B[0;32m      7\u001B[0m     [\n\u001B[0;32m      8\u001B[0m         \u001B[38;5;124m\"\u001B[39m\u001B[38;5;124mlowpass=frequency=300:poles=1\u001B[39m\u001B[38;5;124m\"\u001B[39m,  \u001B[38;5;66;03m# apply single-pole lowpass filter\u001B[39;00m\n\u001B[1;32m   (...)\u001B[0m\n\u001B[0;32m     12\u001B[0m     ],\n\u001B[0;32m     13\u001B[0m )\n",
      "File \u001B[1;32m~\\AppData\\Local\\Programs\\Python\\Python311\\Lib\\site-packages\\torchaudio\\_backend\\utils.py:204\u001B[0m, in \u001B[0;36mget_load_func.<locals>.load\u001B[1;34m(uri, frame_offset, num_frames, normalize, channels_first, format, buffer_size, backend)\u001B[0m\n\u001B[0;32m    118\u001B[0m \u001B[38;5;28;01mdef\u001B[39;00m \u001B[38;5;21mload\u001B[39m(\n\u001B[0;32m    119\u001B[0m     uri: Union[BinaryIO, \u001B[38;5;28mstr\u001B[39m, os\u001B[38;5;241m.\u001B[39mPathLike],\n\u001B[0;32m    120\u001B[0m     frame_offset: \u001B[38;5;28mint\u001B[39m \u001B[38;5;241m=\u001B[39m \u001B[38;5;241m0\u001B[39m,\n\u001B[1;32m   (...)\u001B[0m\n\u001B[0;32m    126\u001B[0m     backend: Optional[\u001B[38;5;28mstr\u001B[39m] \u001B[38;5;241m=\u001B[39m \u001B[38;5;28;01mNone\u001B[39;00m,\n\u001B[0;32m    127\u001B[0m ) \u001B[38;5;241m-\u001B[39m\u001B[38;5;241m>\u001B[39m Tuple[torch\u001B[38;5;241m.\u001B[39mTensor, \u001B[38;5;28mint\u001B[39m]:\n\u001B[0;32m    128\u001B[0m \u001B[38;5;250m    \u001B[39m\u001B[38;5;124;03m\"\"\"Load audio data from source.\u001B[39;00m\n\u001B[0;32m    129\u001B[0m \n\u001B[0;32m    130\u001B[0m \u001B[38;5;124;03m    By default (``normalize=True``, ``channels_first=True``), this function returns Tensor with\u001B[39;00m\n\u001B[1;32m   (...)\u001B[0m\n\u001B[0;32m    202\u001B[0m \u001B[38;5;124;03m            `[channel, time]` else `[time, channel]`.\u001B[39;00m\n\u001B[0;32m    203\u001B[0m \u001B[38;5;124;03m    \"\"\"\u001B[39;00m\n\u001B[1;32m--> 204\u001B[0m     backend \u001B[38;5;241m=\u001B[39m \u001B[43mdispatcher\u001B[49m\u001B[43m(\u001B[49m\u001B[43muri\u001B[49m\u001B[43m,\u001B[49m\u001B[43m \u001B[49m\u001B[38;5;28;43mformat\u001B[39;49m\u001B[43m,\u001B[49m\u001B[43m \u001B[49m\u001B[43mbackend\u001B[49m\u001B[43m)\u001B[49m\n\u001B[0;32m    205\u001B[0m     \u001B[38;5;28;01mreturn\u001B[39;00m backend\u001B[38;5;241m.\u001B[39mload(uri, frame_offset, num_frames, normalize, channels_first, \u001B[38;5;28mformat\u001B[39m, buffer_size)\n",
      "File \u001B[1;32m~\\AppData\\Local\\Programs\\Python\\Python311\\Lib\\site-packages\\torchaudio\\_backend\\utils.py:116\u001B[0m, in \u001B[0;36mget_load_func.<locals>.dispatcher\u001B[1;34m(uri, format, backend_name)\u001B[0m\n\u001B[0;32m    114\u001B[0m     \u001B[38;5;28;01mif\u001B[39;00m backend\u001B[38;5;241m.\u001B[39mcan_decode(uri, \u001B[38;5;28mformat\u001B[39m):\n\u001B[0;32m    115\u001B[0m         \u001B[38;5;28;01mreturn\u001B[39;00m backend\n\u001B[1;32m--> 116\u001B[0m \u001B[38;5;28;01mraise\u001B[39;00m \u001B[38;5;167;01mRuntimeError\u001B[39;00m(\u001B[38;5;124mf\u001B[39m\u001B[38;5;124m\"\u001B[39m\u001B[38;5;124mCouldn\u001B[39m\u001B[38;5;124m'\u001B[39m\u001B[38;5;124mt find appropriate backend to handle uri \u001B[39m\u001B[38;5;132;01m{\u001B[39;00muri\u001B[38;5;132;01m}\u001B[39;00m\u001B[38;5;124m and format \u001B[39m\u001B[38;5;132;01m{\u001B[39;00m\u001B[38;5;28mformat\u001B[39m\u001B[38;5;132;01m}\u001B[39;00m\u001B[38;5;124m.\u001B[39m\u001B[38;5;124m\"\u001B[39m)\n",
      "\u001B[1;31mRuntimeError\u001B[0m: Couldn't find appropriate backend to handle uri C:\\Users\\20887\\.cache\\torch\\hub\\torchaudio\\tutorial-assets\\steam-train-whistle-daniel_simon.wav and format None."
     ]
    }
   ],
   "source": [
    "# Load the data\n",
    "\n",
    "waveform1, sample_rate = torchaudio.load(SAMPLE_WAV, channels_first=False)\n",
    "\n",
    "# Define effects\n",
    "effect = \",\".join(\n",
    "    [\n",
    "        \"lowpass=frequency=300:poles=1\",  # apply single-pole lowpass filter\n",
    "        \"atempo=0.8\",  # reduce the speed\n",
    "        \"aecho=in_gain=0.8:out_gain=0.9:delays=200:decays=0.3|delays=400:decays=0.3\"\n",
    "        # Applying echo gives some dramatic feeling\n",
    "    ],\n",
    ")\n",
    "\n",
    "\n",
    "# Apply effects\n",
    "def apply_effect(waveform, sample_rate, effect):\n",
    "    effector = torchaudio.io.AudioEffector(effect=effect)\n",
    "    return effector.apply(waveform, sample_rate)\n",
    "\n",
    "\n",
    "waveform2 = apply_effect(waveform1, sample_rate, effect)\n",
    "\n",
    "print(waveform1.shape, sample_rate)\n",
    "print(waveform2.shape, sample_rate)"
   ],
   "metadata": {
    "collapsed": false,
    "pycharm": {
     "name": "#%%\n"
    }
   }
  },
  {
   "cell_type": "code",
   "execution_count": 5,
   "outputs": [
    {
     "ename": "RuntimeError",
     "evalue": "Couldn't find appropriate backend to handle uri ./steam-train-whistle-daniel_simon.wav and format None.",
     "output_type": "error",
     "traceback": [
      "\u001B[1;31m---------------------------------------------------------------------------\u001B[0m",
      "\u001B[1;31mRuntimeError\u001B[0m                              Traceback (most recent call last)",
      "Cell \u001B[1;32mIn[5], line 16\u001B[0m\n\u001B[0;32m     13\u001B[0m download_file(SAMPLE_WAV_URL, SAMPLE_WAV_PATH)\n\u001B[0;32m     15\u001B[0m \u001B[38;5;66;03m# 加载音频文件\u001B[39;00m\n\u001B[1;32m---> 16\u001B[0m waveform1, sample_rate \u001B[38;5;241m=\u001B[39m \u001B[43mtorchaudio\u001B[49m\u001B[38;5;241;43m.\u001B[39;49m\u001B[43mload\u001B[49m\u001B[43m(\u001B[49m\u001B[43mSAMPLE_WAV_PATH\u001B[49m\u001B[43m)\u001B[49m\n\u001B[0;32m     18\u001B[0m \u001B[38;5;66;03m# 定义效果\u001B[39;00m\n\u001B[0;32m     19\u001B[0m effect \u001B[38;5;241m=\u001B[39m [\n\u001B[0;32m     20\u001B[0m     [\u001B[38;5;124m\"\u001B[39m\u001B[38;5;124mlowpass\u001B[39m\u001B[38;5;124m\"\u001B[39m, \u001B[38;5;124m\"\u001B[39m\u001B[38;5;124m-1\u001B[39m\u001B[38;5;124m\"\u001B[39m, \u001B[38;5;124m\"\u001B[39m\u001B[38;5;124m300\u001B[39m\u001B[38;5;124m\"\u001B[39m],  \u001B[38;5;66;03m# 应用单极低通滤波器\u001B[39;00m\n\u001B[0;32m     21\u001B[0m     [\u001B[38;5;124m\"\u001B[39m\u001B[38;5;124mspeed\u001B[39m\u001B[38;5;124m\"\u001B[39m, \u001B[38;5;124m\"\u001B[39m\u001B[38;5;124m0.8\u001B[39m\u001B[38;5;124m\"\u001B[39m],  \u001B[38;5;66;03m# 减慢速度\u001B[39;00m\n\u001B[0;32m     22\u001B[0m     [\u001B[38;5;124m\"\u001B[39m\u001B[38;5;124mecho\u001B[39m\u001B[38;5;124m\"\u001B[39m, \u001B[38;5;124m\"\u001B[39m\u001B[38;5;124m0.8\u001B[39m\u001B[38;5;124m\"\u001B[39m, \u001B[38;5;124m\"\u001B[39m\u001B[38;5;124m0.9\u001B[39m\u001B[38;5;124m\"\u001B[39m, \u001B[38;5;124m\"\u001B[39m\u001B[38;5;124m200\u001B[39m\u001B[38;5;124m\"\u001B[39m, \u001B[38;5;124m\"\u001B[39m\u001B[38;5;124m0.3\u001B[39m\u001B[38;5;124m\"\u001B[39m, \u001B[38;5;124m\"\u001B[39m\u001B[38;5;124m400\u001B[39m\u001B[38;5;124m\"\u001B[39m, \u001B[38;5;124m\"\u001B[39m\u001B[38;5;124m0.3\u001B[39m\u001B[38;5;124m\"\u001B[39m]  \u001B[38;5;66;03m# 回声效果\u001B[39;00m\n\u001B[0;32m     23\u001B[0m ]\n",
      "File \u001B[1;32m~\\AppData\\Local\\Programs\\Python\\Python311\\Lib\\site-packages\\torchaudio\\_backend\\utils.py:204\u001B[0m, in \u001B[0;36mget_load_func.<locals>.load\u001B[1;34m(uri, frame_offset, num_frames, normalize, channels_first, format, buffer_size, backend)\u001B[0m\n\u001B[0;32m    118\u001B[0m \u001B[38;5;28;01mdef\u001B[39;00m \u001B[38;5;21mload\u001B[39m(\n\u001B[0;32m    119\u001B[0m     uri: Union[BinaryIO, \u001B[38;5;28mstr\u001B[39m, os\u001B[38;5;241m.\u001B[39mPathLike],\n\u001B[0;32m    120\u001B[0m     frame_offset: \u001B[38;5;28mint\u001B[39m \u001B[38;5;241m=\u001B[39m \u001B[38;5;241m0\u001B[39m,\n\u001B[1;32m   (...)\u001B[0m\n\u001B[0;32m    126\u001B[0m     backend: Optional[\u001B[38;5;28mstr\u001B[39m] \u001B[38;5;241m=\u001B[39m \u001B[38;5;28;01mNone\u001B[39;00m,\n\u001B[0;32m    127\u001B[0m ) \u001B[38;5;241m-\u001B[39m\u001B[38;5;241m>\u001B[39m Tuple[torch\u001B[38;5;241m.\u001B[39mTensor, \u001B[38;5;28mint\u001B[39m]:\n\u001B[0;32m    128\u001B[0m \u001B[38;5;250m    \u001B[39m\u001B[38;5;124;03m\"\"\"Load audio data from source.\u001B[39;00m\n\u001B[0;32m    129\u001B[0m \n\u001B[0;32m    130\u001B[0m \u001B[38;5;124;03m    By default (``normalize=True``, ``channels_first=True``), this function returns Tensor with\u001B[39;00m\n\u001B[1;32m   (...)\u001B[0m\n\u001B[0;32m    202\u001B[0m \u001B[38;5;124;03m            `[channel, time]` else `[time, channel]`.\u001B[39;00m\n\u001B[0;32m    203\u001B[0m \u001B[38;5;124;03m    \"\"\"\u001B[39;00m\n\u001B[1;32m--> 204\u001B[0m     backend \u001B[38;5;241m=\u001B[39m \u001B[43mdispatcher\u001B[49m\u001B[43m(\u001B[49m\u001B[43muri\u001B[49m\u001B[43m,\u001B[49m\u001B[43m \u001B[49m\u001B[38;5;28;43mformat\u001B[39;49m\u001B[43m,\u001B[49m\u001B[43m \u001B[49m\u001B[43mbackend\u001B[49m\u001B[43m)\u001B[49m\n\u001B[0;32m    205\u001B[0m     \u001B[38;5;28;01mreturn\u001B[39;00m backend\u001B[38;5;241m.\u001B[39mload(uri, frame_offset, num_frames, normalize, channels_first, \u001B[38;5;28mformat\u001B[39m, buffer_size)\n",
      "File \u001B[1;32m~\\AppData\\Local\\Programs\\Python\\Python311\\Lib\\site-packages\\torchaudio\\_backend\\utils.py:116\u001B[0m, in \u001B[0;36mget_load_func.<locals>.dispatcher\u001B[1;34m(uri, format, backend_name)\u001B[0m\n\u001B[0;32m    114\u001B[0m     \u001B[38;5;28;01mif\u001B[39;00m backend\u001B[38;5;241m.\u001B[39mcan_decode(uri, \u001B[38;5;28mformat\u001B[39m):\n\u001B[0;32m    115\u001B[0m         \u001B[38;5;28;01mreturn\u001B[39;00m backend\n\u001B[1;32m--> 116\u001B[0m \u001B[38;5;28;01mraise\u001B[39;00m \u001B[38;5;167;01mRuntimeError\u001B[39;00m(\u001B[38;5;124mf\u001B[39m\u001B[38;5;124m\"\u001B[39m\u001B[38;5;124mCouldn\u001B[39m\u001B[38;5;124m'\u001B[39m\u001B[38;5;124mt find appropriate backend to handle uri \u001B[39m\u001B[38;5;132;01m{\u001B[39;00muri\u001B[38;5;132;01m}\u001B[39;00m\u001B[38;5;124m and format \u001B[39m\u001B[38;5;132;01m{\u001B[39;00m\u001B[38;5;28mformat\u001B[39m\u001B[38;5;132;01m}\u001B[39;00m\u001B[38;5;124m.\u001B[39m\u001B[38;5;124m\"\u001B[39m)\n",
      "\u001B[1;31mRuntimeError\u001B[0m: Couldn't find appropriate backend to handle uri ./steam-train-whistle-daniel_simon.wav and format None."
     ]
    }
   ],
   "source": [],
   "metadata": {
    "collapsed": false,
    "pycharm": {
     "name": "#%%\n"
    }
   }
  }
 ],
 "metadata": {
  "kernelspec": {
   "display_name": "Python 3",
   "language": "python",
   "name": "python3"
  },
  "language_info": {
   "codemirror_mode": {
    "name": "ipython",
    "version": 2
   },
   "file_extension": ".py",
   "mimetype": "text/x-python",
   "name": "python",
   "nbconvert_exporter": "python",
   "pygments_lexer": "ipython2",
   "version": "2.7.6"
  }
 },
 "nbformat": 4,
 "nbformat_minor": 0
}