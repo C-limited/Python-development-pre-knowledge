{
 "cells": [
  {
   "cell_type": "code",
   "execution_count": 2,
   "metadata": {
    "collapsed": true,
    "pycharm": {
     "name": "#%%\n"
    }
   },
   "outputs": [],
   "source": [
    "from numpy import vstack\n",
    "from scipy.cluster.vq import kmeans, vq"
   ]
  },
  {
   "cell_type": "code",
   "execution_count": 3,
   "outputs": [],
   "source": [
    "list1 = [88.0, 64.0, 96.0, 85.0]\n",
    "list2 = [92.0, 99.0, 95.0, 94.0]\n",
    "list3 = [91.0, 87.0, 99.0, 95.0]\n",
    "list4 = [78.0, 99.0, 97.0, 81.0]\n",
    "list5 = [88.0, 78.0, 98.0, 84.0]\n",
    "list6 = [100.0, 95.0, 100.0, 92.0]"
   ],
   "metadata": {
    "collapsed": false,
    "pycharm": {
     "name": "#%%\n"
    }
   }
  },
  {
   "cell_type": "code",
   "execution_count": 4,
   "outputs": [],
   "source": [
    "# 使用 vstack 叠加列表\n",
    "data = vstack((list1, list2, list3, list4, list5, list6))"
   ],
   "metadata": {
    "collapsed": false,
    "pycharm": {
     "name": "#%%\n"
    }
   }
  },
  {
   "cell_type": "code",
   "execution_count": 5,
   "outputs": [
    {
     "name": "stdout",
     "output_type": "stream",
     "text": [
      "[1 0 0 0 1 0]\n"
     ]
    }
   ],
   "source": [
    "# 进行 k-means 聚类\n",
    "centroids, _ = kmeans(data, 2)\n",
    "\n",
    "# 进行量化（vq）\n",
    "result, _ = vq(data, centroids)\n",
    "\n",
    "print(result)"
   ],
   "metadata": {
    "collapsed": false,
    "pycharm": {
     "name": "#%%\n"
    }
   }
  }
 ],
 "metadata": {
  "kernelspec": {
   "display_name": "Python 3",
   "language": "python",
   "name": "python3"
  },
  "language_info": {
   "codemirror_mode": {
    "name": "ipython",
    "version": 2
   },
   "file_extension": ".py",
   "mimetype": "text/x-python",
   "name": "python",
   "nbconvert_exporter": "python",
   "pygments_lexer": "ipython2",
   "version": "2.7.6"
  }
 },
 "nbformat": 4,
 "nbformat_minor": 0
}