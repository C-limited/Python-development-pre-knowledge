{
 "cells": [
  {
   "cell_type": "code",
   "execution_count": 1,
   "id": "1c76be92-8792-4912-875e-a8260f42b666",
   "metadata": {},
   "outputs": [],
   "source": [
    "import pandas as pd\n",
    "filename = 'D:\\Program03\\数据处理\\综合实习\\任务1.1-Python数据处理基础(1)\\bankloan.xls'"
   ]
  },
  {
   "cell_type": "code",
   "execution_count": null,
   "id": "08177231-21e7-47b7-bdef-f3f70b4b7bb4",
   "metadata": {},
   "outputs": [],
   "source": [
    "data = pd.read_excel(filename)\n",
    "x = data.iloc["
   ]
  }
 ],
 "metadata": {
  "kernelspec": {
   "display_name": "Python 3 (ipykernel)",
   "language": "python",
   "name": "python3"
  },
  "language_info": {
   "codemirror_mode": {
    "name": "ipython",
    "version": 3
   },
   "file_extension": ".py",
   "mimetype": "text/x-python",
   "name": "python",
   "nbconvert_exporter": "python",
   "pygments_lexer": "ipython3",
   "version": "3.11.4"
  }
 },
 "nbformat": 4,
 "nbformat_minor": 5
}
