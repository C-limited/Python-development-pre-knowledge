{
 "cells": [
  {
   "cell_type": "code",
   "execution_count": 2,
   "outputs": [],
   "source": [
    "import pandas as pd\n",
    "from sklearn.linear_model import LogisticRegression\n",
    "from sklearn.feature_selection import SelectFromModel"
   ],
   "metadata": {
    "collapsed": false,
    "pycharm": {
     "name": "#%%\n"
    }
   }
  },
  {
   "cell_type": "code",
   "execution_count": 3,
   "outputs": [],
   "source": [
    "# 数据初始化\n",
    "filename = 'data/bankloan.xls'\n",
    "data = pd.read_excel(filename)\n",
    "\n",
    "# 提取特征和目标变量\n",
    "X = data.iloc[:, :8].values  # 假设前8列是特征变量\n",
    "y = data.iloc[:, 8].values   # 第9列是目标变量（假设是分类标签）"
   ],
   "metadata": {
    "collapsed": false,
    "pycharm": {
     "name": "#%%\n"
    }
   }
  },
  {
   "cell_type": "code",
   "execution_count": 27,
   "outputs": [
    {
     "name": "stdout",
     "output_type": "stream",
     "text": [
      "通过逻辑回归模型筛选特征结束。\n",
      "有效特征为：年龄, 教育, 工龄, 地址, 收入, 负债率, 信用卡负债, 其他负债\n",
      "逻辑回归模型训练结束。\n",
      "模型的平均正确率为：0.8085714285714286\n"
     ]
    },
    {
     "name": "stderr",
     "output_type": "stream",
     "text": [
      "C:\\Users\\20887\\AppData\\Local\\Programs\\Python\\Python311\\Lib\\site-packages\\sklearn\\linear_model\\_logistic.py:460: ConvergenceWarning: lbfgs failed to converge (status=1):\n",
      "STOP: TOTAL NO. of ITERATIONS REACHED LIMIT.\n",
      "\n",
      "Increase the number of iterations (max_iter) or scale the data as shown in:\n",
      "    https://scikit-learn.org/stable/modules/preprocessing.html\n",
      "Please also refer to the documentation for alternative solver options:\n",
      "    https://scikit-learn.org/stable/modules/linear_model.html#logistic-regression\n",
      "  n_iter_i = _check_optimize_result(\n"
     ]
    }
   ],
   "source": [
    "# 建立逻辑回归模型用于特征选择\n",
    "lr_selector = LogisticRegression(penalty='l1', solver='liblinear')  # 使用L1正则化\n",
    "selector = SelectFromModel(lr_selector)\n",
    "selector.fit(X, y)\n",
    "\n",
    "print('通过逻辑回归模型筛选特征结束。')\n",
    "selected_features = data.columns[:8][selector.get_support()]\n",
    "print('有效特征为：%s' % ', '.join(selected_features))\n",
    "\n",
    "# 使用筛选后的特征数据重新构造 X\n",
    "X_selected = selector.transform(X)\n",
    "\n",
    "# 建立逻辑回归模型并训练\n",
    "lr = LogisticRegression()\n",
    "lr.fit(X_selected, y)\n",
    "\n",
    "print('逻辑回归模型训练结束。')\n",
    "print('模型的平均正确率为：%s' % lr.score(X_selected, y))"
   ],
   "metadata": {
    "collapsed": false,
    "pycharm": {
     "name": "#%%\n"
    }
   }
  },
  {
   "cell_type": "code",
   "execution_count": null,
   "outputs": [],
   "source": [],
   "metadata": {
    "collapsed": false,
    "pycharm": {
     "name": "#%%\n"
    }
   }
  }
 ],
 "metadata": {
  "kernelspec": {
   "display_name": "Python 3 (ipykernel)",
   "language": "python",
   "name": "python3"
  },
  "language_info": {
   "codemirror_mode": {
    "name": "ipython",
    "version": 3
   },
   "file_extension": ".py",
   "mimetype": "text/x-python",
   "name": "python",
   "nbconvert_exporter": "python",
   "pygments_lexer": "ipython3",
   "version": "3.11.4"
  }
 },
 "nbformat": 4,
 "nbformat_minor": 5
}