{
 "cells": [
  {
   "cell_type": "code",
   "execution_count": 1,
   "id": "677f8bb1-8c30-4325-9a60-9b7fabbc5712",
   "metadata": {},
   "outputs": [
    {
     "ename": "ImportError",
     "evalue": "\n`load_boston` has been removed from scikit-learn since version 1.2.\n\nThe Boston housing prices dataset has an ethical problem: as\ninvestigated in [1], the authors of this dataset engineered a\nnon-invertible variable \"B\" assuming that racial self-segregation had a\npositive impact on house prices [2]. Furthermore the goal of the\nresearch that led to the creation of this dataset was to study the\nimpact of air quality but it did not give adequate demonstration of the\nvalidity of this assumption.\n\nThe scikit-learn maintainers therefore strongly discourage the use of\nthis dataset unless the purpose of the code is to study and educate\nabout ethical issues in data science and machine learning.\n\nIn this special case, you can fetch the dataset from the original\nsource::\n\n    import pandas as pd\n    import numpy as np\n\n    data_url = \"http://lib.stat.cmu.edu/datasets/boston\"\n    raw_df = pd.read_csv(data_url, sep=\"\\s+\", skiprows=22, header=None)\n    data = np.hstack([raw_df.values[::2, :], raw_df.values[1::2, :2]])\n    target = raw_df.values[1::2, 2]\n\nAlternative datasets include the California housing dataset and the\nAmes housing dataset. You can load the datasets as follows::\n\n    from sklearn.datasets import fetch_california_housing\n    housing = fetch_california_housing()\n\nfor the California housing dataset and::\n\n    from sklearn.datasets import fetch_openml\n    housing = fetch_openml(name=\"house_prices\", as_frame=True)\n\nfor the Ames housing dataset.\n\n[1] M Carlisle.\n\"Racist data destruction?\"\n<https://medium.com/@docintangible/racist-data-destruction-113e3eff54a8>\n\n[2] Harrison Jr, David, and Daniel L. Rubinfeld.\n\"Hedonic housing prices and the demand for clean air.\"\nJournal of environmental economics and management 5.1 (1978): 81-102.\n<https://www.researchgate.net/publication/4974606_Hedonic_housing_prices_and_the_demand_for_clean_air>\n",
     "output_type": "error",
     "traceback": [
      "\u001b[1;31m---------------------------------------------------------------------------\u001b[0m",
      "\u001b[1;31mImportError\u001b[0m                               Traceback (most recent call last)",
      "Cell \u001b[1;32mIn[1], line 1\u001b[0m\n\u001b[1;32m----> 1\u001b[0m \u001b[38;5;28;01mfrom\u001b[39;00m \u001b[38;5;21;01msklearn\u001b[39;00m\u001b[38;5;21;01m.\u001b[39;00m\u001b[38;5;21;01mdatasets\u001b[39;00m \u001b[38;5;28;01mimport\u001b[39;00m load_boston\n\u001b[0;32m      2\u001b[0m \u001b[38;5;28;01mfrom\u001b[39;00m \u001b[38;5;21;01msklearn\u001b[39;00m\u001b[38;5;21;01m.\u001b[39;00m\u001b[38;5;21;01mmodel_selection\u001b[39;00m \u001b[38;5;28;01mimport\u001b[39;00m train_test_split\n\u001b[0;32m      3\u001b[0m \u001b[38;5;28;01mfrom\u001b[39;00m \u001b[38;5;21;01msklearn\u001b[39;00m\u001b[38;5;21;01m.\u001b[39;00m\u001b[38;5;21;01mpreprocessing\u001b[39;00m \u001b[38;5;28;01mimport\u001b[39;00m StandardScaler\n",
      "File \u001b[1;32m~\\AppData\\Local\\Programs\\Python\\Python311\\Lib\\site-packages\\sklearn\\datasets\\__init__.py:157\u001b[0m, in \u001b[0;36m__getattr__\u001b[1;34m(name)\u001b[0m\n\u001b[0;32m    108\u001b[0m \u001b[38;5;28;01mif\u001b[39;00m name \u001b[38;5;241m==\u001b[39m \u001b[38;5;124m\"\u001b[39m\u001b[38;5;124mload_boston\u001b[39m\u001b[38;5;124m\"\u001b[39m:\n\u001b[0;32m    109\u001b[0m     msg \u001b[38;5;241m=\u001b[39m textwrap\u001b[38;5;241m.\u001b[39mdedent(\u001b[38;5;124m\"\"\"\u001b[39m\n\u001b[0;32m    110\u001b[0m \u001b[38;5;124m        `load_boston` has been removed from scikit-learn since version 1.2.\u001b[39m\n\u001b[0;32m    111\u001b[0m \n\u001b[1;32m   (...)\u001b[0m\n\u001b[0;32m    155\u001b[0m \u001b[38;5;124m        <https://www.researchgate.net/publication/4974606_Hedonic_housing_prices_and_the_demand_for_clean_air>\u001b[39m\n\u001b[0;32m    156\u001b[0m \u001b[38;5;124m        \u001b[39m\u001b[38;5;124m\"\"\"\u001b[39m)\n\u001b[1;32m--> 157\u001b[0m     \u001b[38;5;28;01mraise\u001b[39;00m \u001b[38;5;167;01mImportError\u001b[39;00m(msg)\n\u001b[0;32m    158\u001b[0m \u001b[38;5;28;01mtry\u001b[39;00m:\n\u001b[0;32m    159\u001b[0m     \u001b[38;5;28;01mreturn\u001b[39;00m \u001b[38;5;28mglobals\u001b[39m()[name]\n",
      "\u001b[1;31mImportError\u001b[0m: \n`load_boston` has been removed from scikit-learn since version 1.2.\n\nThe Boston housing prices dataset has an ethical problem: as\ninvestigated in [1], the authors of this dataset engineered a\nnon-invertible variable \"B\" assuming that racial self-segregation had a\npositive impact on house prices [2]. Furthermore the goal of the\nresearch that led to the creation of this dataset was to study the\nimpact of air quality but it did not give adequate demonstration of the\nvalidity of this assumption.\n\nThe scikit-learn maintainers therefore strongly discourage the use of\nthis dataset unless the purpose of the code is to study and educate\nabout ethical issues in data science and machine learning.\n\nIn this special case, you can fetch the dataset from the original\nsource::\n\n    import pandas as pd\n    import numpy as np\n\n    data_url = \"http://lib.stat.cmu.edu/datasets/boston\"\n    raw_df = pd.read_csv(data_url, sep=\"\\s+\", skiprows=22, header=None)\n    data = np.hstack([raw_df.values[::2, :], raw_df.values[1::2, :2]])\n    target = raw_df.values[1::2, 2]\n\nAlternative datasets include the California housing dataset and the\nAmes housing dataset. You can load the datasets as follows::\n\n    from sklearn.datasets import fetch_california_housing\n    housing = fetch_california_housing()\n\nfor the California housing dataset and::\n\n    from sklearn.datasets import fetch_openml\n    housing = fetch_openml(name=\"house_prices\", as_frame=True)\n\nfor the Ames housing dataset.\n\n[1] M Carlisle.\n\"Racist data destruction?\"\n<https://medium.com/@docintangible/racist-data-destruction-113e3eff54a8>\n\n[2] Harrison Jr, David, and Daniel L. Rubinfeld.\n\"Hedonic housing prices and the demand for clean air.\"\nJournal of environmental economics and management 5.1 (1978): 81-102.\n<https://www.researchgate.net/publication/4974606_Hedonic_housing_prices_and_the_demand_for_clean_air>\n"
     ]
    }
   ],
   "source": [
    "from sklearn.datasets import load_boston\n",
    "from sklearn.model_selection import train_test_split\n",
    "from sklearn.preprocessing import StandardScaler\n",
    "from sklearn.linear_model import LinearRegression, SGDRegressor, Ridge\n",
    "from sklearn.metrics import mean_squared_error\n",
    "import joblib"
   ]
  },
  {
   "cell_type": "code",
   "execution_count": 2,
   "id": "9d11c985-b835-4bc7-be42-da38f9f3541c",
   "metadata": {},
   "outputs": [],
   "source": [
    "def linear1():\n",
    "    \"\"\"\n",
    "    正规方程的优化方法对波士顿房价进行预测\n",
    "    :return:\n",
    "    \"\"\"\n",
    "    # 1）获取数据\n",
    "    boston = load_boston()\n",
    "\n",
    "    # 2）划分数据集\n",
    "    x_train, x_test, y_train, y_test = train_test_split(boston.data, boston.target, random_state=22)\n",
    "\n",
    "    # 3）标准化\n",
    "    transfer = StandardScaler()\n",
    "    x_train = transfer.fit_transform(x_train)\n",
    "    x_test = transfer.transform(x_test)\n",
    "\n",
    "    # 4）预估器\n",
    "    estimator = LinearRegression()\n",
    "    estimator.fit(x_train, y_train)\n",
    "\n",
    "    # 5）得出模型\n",
    "    print(\"正规方程-权重系数为：\\n\", estimator.coef_)\n",
    "    print(\"正规方程-偏置为：\\n\", estimator.intercept_)\n",
    "\n",
    "    # 6）模型评估\n",
    "    y_predict = estimator.predict(x_test)\n",
    "    print(\"预测房价：\\n\", y_predict)\n",
    "    error = mean_squared_error(y_test, y_predict)\n",
    "    print(\"正规方程-均方误差为：\\n\", error)\n",
    "\n",
    "    return None\n"
   ]
  },
  {
   "cell_type": "code",
   "execution_count": null,
   "id": "718aed50-b458-45ea-adf2-59e9dea573cb",
   "metadata": {},
   "outputs": [],
   "source": [
    "def linear2():\n",
    "    \"\"\"\n",
    "    梯度下降的优化方法对波士顿房价进行预测\n",
    "    :return:\n",
    "    \"\"\"\n",
    "    # 1）获取数据\n",
    "    boston = load_boston()\n",
    "    print(\"特征数量：\\n\", boston.data.shape)\n",
    "\n",
    "    # 2）划分数据集\n",
    "    x_train, x_test, y_train, y_test = train_test_split(boston.data, boston.target, random_state=22)\n",
    "\n",
    "    # 3）标准化\n",
    "    transfer = StandardScaler()\n",
    "    x_train = transfer.fit_transform(x_train)\n",
    "    x_test = transfer.transform(x_test)\n",
    "\n",
    "    # 4）预估器\n",
    "    estimator = SGDRegressor(learning_rate=\"constant\", eta0=0.01, max_iter=10000, penalty=\"l1\")\n",
    "    estimator.fit(x_train, y_train)\n",
    "\n",
    "    # 5）得出模型\n",
    "    print(\"梯度下降-权重系数为：\\n\", estimator.coef_)\n",
    "    print(\"梯度下降-偏置为：\\n\", estimator.intercept_)\n",
    "\n",
    "    # 6）模型评估\n",
    "    y_predict = estimator.predict(x_test)\n",
    "    print(\"预测房价：\\n\", y_predict)\n",
    "    error = mean_squared_error(y_test, y_predict)\n",
    "    print(\"梯度下降-均方误差为：\\n\", error)\n",
    "\n",
    "    return None\n"
   ]
  },
  {
   "cell_type": "code",
   "execution_count": null,
   "id": "48b1b393-0c68-43bb-963f-7bd06e435f7e",
   "metadata": {},
   "outputs": [],
   "source": [
    "def linear3():\n",
    "    \"\"\"\n",
    "    岭回归对波士顿房价进行预测\n",
    "    :return:\n",
    "    \"\"\"\n",
    "    # 1）获取数据\n",
    "    boston = load_boston()\n",
    "    print(\"特征数量：\\n\", boston.data.shape)\n",
    "\n",
    "    # 2）划分数据集\n",
    "    x_train, x_test, y_train, y_test = train_test_split(boston.data, boston.target, random_state=22)\n",
    "\n",
    "    # 3）标准化\n",
    "    transfer = StandardScaler()\n",
    "    x_train = transfer.fit_transform(x_train)\n",
    "    x_test = transfer.transform(x_test)\n",
    "\n",
    "    # 4）预估器\n",
    "    # estimator = Ridge(alpha=0.5, max_iter=10000)\n",
    "    # estimator.fit(x_train, y_train)\n",
    "\n",
    "    # 保存模型\n",
    "    # joblib.dump(estimator, \"my_ridge.pkl\")\n",
    "    # 加载模型\n",
    "    estimator = joblib.load(\"my_ridge.pkl\")\n",
    "\n",
    "    # 5）得出模型\n",
    "    print(\"岭回归-权重系数为：\\n\", estimator.coef_)\n",
    "    print(\"岭回归-偏置为：\\n\", estimator.intercept_)\n",
    "\n",
    "    # 6）模型评估\n",
    "    y_predict = estimator.predict(x_test)\n",
    "    print(\"预测房价：\\n\", y_predict)\n",
    "    error = mean_squared_error(y_test, y_predict)\n",
    "    print(\"岭回归-均方误差为：\\n\", error)\n",
    "\n",
    "    return None\n"
   ]
  },
  {
   "cell_type": "code",
   "execution_count": 3,
   "id": "da4c285e-277d-4c7f-b876-f8ba88359e8c",
   "metadata": {},
   "outputs": [
    {
     "ename": "NameError",
     "evalue": "name 'load_boston' is not defined",
     "output_type": "error",
     "traceback": [
      "\u001b[1;31m---------------------------------------------------------------------------\u001b[0m",
      "\u001b[1;31mNameError\u001b[0m                                 Traceback (most recent call last)",
      "Cell \u001b[1;32mIn[3], line 3\u001b[0m\n\u001b[0;32m      1\u001b[0m \u001b[38;5;28;01mif\u001b[39;00m \u001b[38;5;18m__name__\u001b[39m \u001b[38;5;241m==\u001b[39m \u001b[38;5;124m\"\u001b[39m\u001b[38;5;124m__main__\u001b[39m\u001b[38;5;124m\"\u001b[39m:\n\u001b[0;32m      2\u001b[0m     \u001b[38;5;66;03m# 代码1：正规方程的优化方法对波士顿房价进行预测\u001b[39;00m\n\u001b[1;32m----> 3\u001b[0m     \u001b[43mlinear1\u001b[49m\u001b[43m(\u001b[49m\u001b[43m)\u001b[49m\n\u001b[0;32m      4\u001b[0m     \u001b[38;5;66;03m# 代码2：梯度下降的优化方法对波士顿房价进行预测\u001b[39;00m\n\u001b[0;32m      5\u001b[0m     linear2()\n",
      "Cell \u001b[1;32mIn[2], line 7\u001b[0m, in \u001b[0;36mlinear1\u001b[1;34m()\u001b[0m\n\u001b[0;32m      2\u001b[0m \u001b[38;5;250m\u001b[39m\u001b[38;5;124;03m\"\"\"\u001b[39;00m\n\u001b[0;32m      3\u001b[0m \u001b[38;5;124;03m正规方程的优化方法对波士顿房价进行预测\u001b[39;00m\n\u001b[0;32m      4\u001b[0m \u001b[38;5;124;03m:return:\u001b[39;00m\n\u001b[0;32m      5\u001b[0m \u001b[38;5;124;03m\"\"\"\u001b[39;00m\n\u001b[0;32m      6\u001b[0m \u001b[38;5;66;03m# 1）获取数据\u001b[39;00m\n\u001b[1;32m----> 7\u001b[0m boston \u001b[38;5;241m=\u001b[39m \u001b[43mload_boston\u001b[49m()\n\u001b[0;32m      9\u001b[0m \u001b[38;5;66;03m# 2）划分数据集\u001b[39;00m\n\u001b[0;32m     10\u001b[0m x_train, x_test, y_train, y_test \u001b[38;5;241m=\u001b[39m train_test_split(boston\u001b[38;5;241m.\u001b[39mdata, boston\u001b[38;5;241m.\u001b[39mtarget, random_state\u001b[38;5;241m=\u001b[39m\u001b[38;5;241m22\u001b[39m)\n",
      "\u001b[1;31mNameError\u001b[0m: name 'load_boston' is not defined"
     ]
    }
   ],
   "source": [
    "if __name__ == \"__main__\":\n",
    "    # 代码1：正规方程的优化方法对波士顿房价进行预测\n",
    "    linear1()\n",
    "    # 代码2：梯度下降的优化方法对波士顿房价进行预测\n",
    "    linear2()\n",
    "    # 代码3：岭回归对波士顿房价进行预测\n",
    "    linear3()"
   ]
  },
  {
   "cell_type": "code",
   "execution_count": null,
   "id": "6566e725-e67b-4c8f-bbf9-c632f6c13c2e",
   "metadata": {},
   "outputs": [],
   "source": []
  }
 ],
 "metadata": {
  "kernelspec": {
   "display_name": "Python 3 (ipykernel)",
   "language": "python",
   "name": "python3"
  },
  "language_info": {
   "codemirror_mode": {
    "name": "ipython",
    "version": 3
   },
   "file_extension": ".py",
   "mimetype": "text/x-python",
   "name": "python",
   "nbconvert_exporter": "python",
   "pygments_lexer": "ipython3",
   "version": "3.11.4"
  }
 },
 "nbformat": 4,
 "nbformat_minor": 5
}
