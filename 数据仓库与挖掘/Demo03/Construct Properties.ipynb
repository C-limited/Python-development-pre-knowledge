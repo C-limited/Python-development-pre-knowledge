{
 "cells": [
  {
   "cell_type": "code",
   "execution_count": 1,
   "id": "39fff77f-5886-45a4-bd71-5d4c2729e64c",
   "metadata": {},
   "outputs": [],
   "source": [
    "import pandas as pd \n"
   ]
  },
  {
   "cell_type": "code",
   "execution_count": 2,
   "id": "45aad2dc-0916-4191-83ac-54b4efc90036",
   "metadata": {},
   "outputs": [],
   "source": [
    "inputfile = 'data/electricity_data.xls'\n",
    "outfile = 'tmp/eletriccity_data.xls'\n"
   ]
  },
  {
   "cell_type": "code",
   "execution_count": 4,
   "id": "fadb3ac8-2c55-437e-a7c7-a95e7ed64902",
   "metadata": {},
   "outputs": [],
   "source": [
    "data = pd.read_excel(inputfile)\n",
    "data[u'线损率'] = (data[u'供入电量'] - data[u'供出电量']) / data[u'供入电量']\n",
    "                "
   ]
  },
  {
   "cell_type": "code",
   "execution_count": null,
   "id": "c4274888-ce42-4cdf-a38e-389a7183809b",
   "metadata": {},
   "outputs": [],
   "source": [
    "data.to_exccel(outfile, index=False)"
   ]
  }
 ],
 "metadata": {
  "kernelspec": {
   "display_name": "Python 3 (ipykernel)",
   "language": "python",
   "name": "python3"
  },
  "language_info": {
   "codemirror_mode": {
    "name": "ipython",
    "version": 3
   },
   "file_extension": ".py",
   "mimetype": "text/x-python",
   "name": "python",
   "nbconvert_exporter": "python",
   "pygments_lexer": "ipython3",
   "version": "3.11.4"
  }
 },
 "nbformat": 4,
 "nbformat_minor": 5
}
