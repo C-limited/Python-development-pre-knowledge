{
 "cells": [
  {
   "cell_type": "code",
   "execution_count": 1,
   "id": "a48cb616-1cf2-48a7-9a56-717a9991ff4e",
   "metadata": {},
   "outputs": [],
   "source": [
    "import pandas as pd"
   ]
  },
  {
   "cell_type": "code",
   "execution_count": 2,
   "id": "c7dae8ce-11cd-404f-94a7-3784640f8dd5",
   "metadata": {},
   "outputs": [],
   "source": [
    "inputfile = 'data/principal_component.xls'\n",
    "outputfile = 'tmp/dimention_reducted.xls'"
   ]
  },
  {
   "cell_type": "code",
   "execution_count": 3,
   "id": "1a2e94b6-312e-4902-ab3d-a98e3cfb340e",
   "metadata": {},
   "outputs": [],
   "source": [
    "data = pd.read_excel(inputfile, header=None)\n"
   ]
  },
  {
   "cell_type": "code",
   "execution_count": 4,
   "id": "12040ec0-0a00-4de0-8dbc-964ae5b1fd0b",
   "metadata": {},
   "outputs": [],
   "source": [
    "from sklearn.decomposition import PCA\n"
   ]
  },
  {
   "cell_type": "code",
   "execution_count": null,
   "id": "dac6f465-2f4b-4bb9-823b-b81d6e2b3e90",
   "metadata": {},
   "outputs": [],
   "source": [
    "pca = PCA()\n",
    "pca.fit(data)\n",
    "pca.components_\n",
    "pca.explained_variance_ratio_"
   ]
  }
 ],
 "metadata": {
  "kernelspec": {
   "display_name": "Python 3 (ipykernel)",
   "language": "python",
   "name": "python3"
  },
  "language_info": {
   "codemirror_mode": {
    "name": "ipython",
    "version": 3
   },
   "file_extension": ".py",
   "mimetype": "text/x-python",
   "name": "python",
   "nbconvert_exporter": "python",
   "pygments_lexer": "ipython3",
   "version": "3.11.4"
  }
 },
 "nbformat": 4,
 "nbformat_minor": 5
}
