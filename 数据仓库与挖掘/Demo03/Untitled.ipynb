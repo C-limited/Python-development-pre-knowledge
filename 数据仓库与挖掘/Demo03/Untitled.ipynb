{
 "cells": [
  {
   "cell_type": "code",
   "execution_count": 18,
   "id": "4c1ccb84-f34d-4d9e-bafb-11468ef17a56",
   "metadata": {},
   "outputs": [],
   "source": [
    "import pandas as pd\n",
    "import matplotlib.pyplot as plt\n",
    "from sklearn.cluster import KMeans"
   ]
  },
  {
   "cell_type": "code",
   "execution_count": 19,
   "id": "aa85d61c-e7b0-427c-abc0-af9818800bf5",
   "metadata": {},
   "outputs": [],
   "source": [
    "datafile = 'data/discretization_data.xls'\n",
    "data = pd.read_excel(datafile)\n",
    "data = data[u'肝气郁结证型系数'].copy()\n",
    "k = 4"
   ]
  },
  {
   "cell_type": "code",
   "execution_count": 20,
   "id": "0ccabcb6",
   "metadata": {
    "collapsed": false,
    "jupyter": {
     "outputs_hidden": false
    },
    "pycharm": {
     "name": "#%%\n"
    }
   },
   "outputs": [],
   "source": [
    "d1 = pd.cut(data, k, labels=range(k))\n"
   ]
  },
  {
   "cell_type": "code",
   "execution_count": 21,
   "id": "e931c594",
   "metadata": {
    "collapsed": false,
    "jupyter": {
     "outputs_hidden": false
    },
    "pycharm": {
     "name": "#%%\n"
    }
   },
   "outputs": [],
   "source": [
    "w = [1.0 * i / k for i in range(k + 1)]\n",
    "w = data.describe(percentiles=w)[4:4 + k + 1]\n",
    "w[0] = w[0] * (1-1e-10)\n",
    "d2 = pd.cut(data,w,labels=range(k))"
   ]
  },
  {
   "cell_type": "code",
   "execution_count": null,
   "id": "d199c468",
   "metadata": {
    "collapsed": false,
    "jupyter": {
     "outputs_hidden": false
    },
    "pycharm": {
     "name": "#%%\n"
    }
   },
   "outputs": [],
   "source": [
    "from sklearn.cluster import KMeans\n",
    "kmodel = KMeans(n_clusters = k,n_jobs = 4)\n",
    "kmodel.fit(data.reshape(len(data),1))\n",
    "c = pd.DataFrame(kmodel.cluster_centers_).sort(0)\n",
    "w = pd.rolling_mean(c,2).i;oc[1:]\n",
    "w = [0] + list(w[0]) + [data.max()]\n",
    "d3 = pd.cut(data, w, labels = range(k))\n"
   ]
  },
  {
   "cell_type": "code",
   "execution_count": 15,
   "id": "7c557990-98ab-4047-a8d0-a8d0877790f6",
   "metadata": {},
   "outputs": [],
   "source": [
    "w = [1.0 * i / k for i in range(k + 1)]\n",
    "w = data.describe(percentiles=w)[4:4 + k + 1]\n",
    "w[0] = w[0] * (1-1e-10)\n",
    "d2 = pd.cut(data,w,labels=range(k))"
   ]
  },
  {
   "cell_type": "code",
   "execution_count": 17,
   "id": "618e7bbe-5912-475c-84d2-37424d005584",
   "metadata": {},
   "outputs": [
    {
     "ename": "TypeError",
     "evalue": "KMeans.__init__() got an unexpected keyword argument 'n_jobs'",
     "output_type": "error",
     "traceback": [
      "\u001b[1;31m---------------------------------------------------------------------------\u001b[0m",
      "\u001b[1;31mTypeError\u001b[0m                                 Traceback (most recent call last)",
      "Cell \u001b[1;32mIn[17], line 2\u001b[0m\n\u001b[0;32m      1\u001b[0m \u001b[38;5;28;01mfrom\u001b[39;00m \u001b[38;5;21;01msklearn\u001b[39;00m\u001b[38;5;21;01m.\u001b[39;00m\u001b[38;5;21;01mcluster\u001b[39;00m \u001b[38;5;28;01mimport\u001b[39;00m KMeans\n\u001b[1;32m----> 2\u001b[0m kmodel \u001b[38;5;241m=\u001b[39m \u001b[43mKMeans\u001b[49m\u001b[43m(\u001b[49m\u001b[43mn_clusters\u001b[49m\u001b[43m \u001b[49m\u001b[38;5;241;43m=\u001b[39;49m\u001b[43m \u001b[49m\u001b[43mk\u001b[49m\u001b[43m,\u001b[49m\u001b[43mn_jobs\u001b[49m\u001b[43m \u001b[49m\u001b[38;5;241;43m=\u001b[39;49m\u001b[43m \u001b[49m\u001b[38;5;241;43m4\u001b[39;49m\u001b[43m)\u001b[49m\n\u001b[0;32m      3\u001b[0m kmodel\u001b[38;5;241m.\u001b[39mfit(data\u001b[38;5;241m.\u001b[39mreshape(\u001b[38;5;28mlen\u001b[39m(data),\u001b[38;5;241m1\u001b[39m))\n\u001b[0;32m      4\u001b[0m c \u001b[38;5;241m=\u001b[39m pd\u001b[38;5;241m.\u001b[39mDataFrame(kmodel\u001b[38;5;241m.\u001b[39mcluster_centers_)\u001b[38;5;241m.\u001b[39msort(\u001b[38;5;241m0\u001b[39m)\n",
      "\u001b[1;31mTypeError\u001b[0m: KMeans.__init__() got an unexpected keyword argument 'n_jobs'"
     ]
    }
   ],
   "source": [
    "from sklearn.cluster import KMeans\n",
    "kmodel = KMeans(n_clusters = k,n_jobs = 4)\n",
    "kmodel.fit(data.reshape(len(data),1))\n",
    "c = pd.DataFrame(kmodel.cluster_centers_).sort(0)\n",
    "w = pd.rolling_mean(c,2).i;oc[1:]\n",
    "w = [0] + list(w[0]) + [data.max()]\n",
    "d3 = pd.cut(data, w, labels = range(k))\n"
   ]
  },
  {
   "cell_type": "code",
   "execution_count": null,
   "id": "2e8c0133-3ebe-4621-8485-c643abc421df",
   "metadata": {},
   "outputs": [],
   "source": []
  }
 ],
 "metadata": {
  "kernelspec": {
   "display_name": "Python 3 (ipykernel)",
   "language": "python",
   "name": "python3"
  },
  "language_info": {
   "codemirror_mode": {
    "name": "ipython",
    "version": 3
   },
   "file_extension": ".py",
   "mimetype": "text/x-python",
   "name": "python",
   "nbconvert_exporter": "python",
   "pygments_lexer": "ipython3",
   "version": "3.11.4"
  }
 },
 "nbformat": 4,
 "nbformat_minor": 5
}
