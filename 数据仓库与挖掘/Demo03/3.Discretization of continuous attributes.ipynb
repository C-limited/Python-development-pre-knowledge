{
 "cells": [
  {
   "cell_type": "code",
   "execution_count": 2,
   "id": "b786ee00-41cb-48bf-8e92-772fccb00371",
   "metadata": {
    "pycharm": {
     "name": "#%%\n"
    }
   },
   "outputs": [],
   "source": [
    "import pandas as pd"
   ]
  },
  {
   "cell_type": "code",
   "execution_count": 3,
   "id": "75e273ff-d19d-4af4-bf25-c27e6f62cf4d",
   "metadata": {
    "pycharm": {
     "name": "#%%\n"
    }
   },
   "outputs": [
    {
     "name": "stdout",
     "output_type": "stream",
     "text": [
      "0      0.056\n",
      "1      0.488\n",
      "2      0.107\n",
      "3      0.322\n",
      "4      0.242\n",
      "       ...  \n",
      "925    0.284\n",
      "926    0.103\n",
      "927    0.287\n",
      "928    0.296\n",
      "929    0.169\n",
      "Name: 肝气郁结证型系数, Length: 930, dtype: float64\n"
     ]
    }
   ],
   "source": [
    "datafile = 'data/discretization_data.xls'\n",
    "data = pd.read_excel(datafile)\n",
    "data = data[u'肝气郁结证型系数'].copy()\n",
    "k = 4\n",
    "print(data)"
   ]
  },
  {
   "cell_type": "code",
   "execution_count": 4,
   "id": "714da18b-5250-42fd-a17c-b6f11d211de8",
   "metadata": {
    "pycharm": {
     "name": "#%%\n"
    }
   },
   "outputs": [],
   "source": [
    "d1 = pd.cut(data,k,labels=range(k))"
   ]
  },
  {
   "cell_type": "code",
   "execution_count": 5,
   "id": "2944ee46-01d9-4a23-8783-bc48bd6dd14d",
   "metadata": {
    "pycharm": {
     "name": "#%%\n"
    }
   },
   "outputs": [],
   "source": [
    "w = [1.0 * i / k for i in range(k + 1)]\n",
    "w = data.describe(percentiles=w)[4:4 + k + 1]\n",
    "w[0] = w[0] * (1 - 1e-10)\n",
    "d2 = pd.cut(data,w, labels=range(k))"
   ]
  },
  {
   "cell_type": "code",
   "execution_count": 6,
   "id": "c6ca9f47-0c11-4717-ae5c-6c34f0e6a0ec",
   "metadata": {
    "pycharm": {
     "name": "#%%\n"
    },
    "scrolled": true
   },
   "outputs": [
    {
     "ename": "TypeError",
     "evalue": "KMeans.__init__() got an unexpected keyword argument 'n_jobs'",
     "output_type": "error",
     "traceback": [
      "\u001B[1;31m---------------------------------------------------------------------------\u001B[0m",
      "\u001B[1;31mTypeError\u001B[0m                                 Traceback (most recent call last)",
      "Cell \u001B[1;32mIn[6], line 2\u001B[0m\n\u001B[0;32m      1\u001B[0m \u001B[38;5;28;01mfrom\u001B[39;00m \u001B[38;5;21;01msklearn\u001B[39;00m\u001B[38;5;21;01m.\u001B[39;00m\u001B[38;5;21;01mcluster\u001B[39;00m \u001B[38;5;28;01mimport\u001B[39;00m KMeans\n\u001B[1;32m----> 2\u001B[0m kmodel \u001B[38;5;241m=\u001B[39m \u001B[43mKMeans\u001B[49m\u001B[43m(\u001B[49m\u001B[43mn_clusters\u001B[49m\u001B[38;5;241;43m=\u001B[39;49m\u001B[43mk\u001B[49m\u001B[43m,\u001B[49m\u001B[43mn_jobs\u001B[49m\u001B[38;5;241;43m=\u001B[39;49m\u001B[38;5;241;43m4\u001B[39;49m\u001B[43m)\u001B[49m\n\u001B[0;32m      3\u001B[0m kmodel\u001B[38;5;241m.\u001B[39mfit(data\u001B[38;5;241m.\u001B[39mreshape((\u001B[38;5;28mlen\u001B[39m(data),\u001B[38;5;241m1\u001B[39m)))\n\u001B[0;32m      4\u001B[0m c \u001B[38;5;241m=\u001B[39m pd\u001B[38;5;241m.\u001B[39mDataFrame(kmodel\u001B[38;5;241m.\u001B[39mcluster_centers_)\u001B[38;5;241m.\u001B[39msort(\u001B[38;5;241m0\u001B[39m)\n",
      "\u001B[1;31mTypeError\u001B[0m: KMeans.__init__() got an unexpected keyword argument 'n_jobs'"
     ]
    }
   ],
   "source": [
    "from sklearn.cluster import KMeans\n",
    "kmodel = KMeans(n_clusters=k,n_jobs=4)\n",
    "kmodel.fit(data.reshape((len(data),1)))\n",
    "c = pd.DataFrame(kmodel.cluster_centers_).sort(0)\n",
    "w = pd.rolling_mean(c,2).iloc[1:]\n",
    "w = [0] + list(w[0]) + [data.max()]\n",
    "d3 = pd.cut(data,w,labels=range(k))"
   ]
  },
  {
   "cell_type": "code",
   "execution_count": 1,
   "id": "12b41fb5-97ce-4e1b-ab56-c84d99ff999d",
   "metadata": {
    "pycharm": {
     "name": "#%%\n"
    }
   },
   "outputs": [
    {
     "ename": "SyntaxError",
     "evalue": "'(' was never closed (2969585866.py, line 3)",
     "output_type": "error",
     "traceback": [
      "\u001B[1;36m  Cell \u001B[1;32mIn[1], line 3\u001B[1;36m\u001B[0m\n\u001B[1;33m    plt.figure(figsize=(8,3)\u001B[0m\n\u001B[1;37m              ^\u001B[0m\n\u001B[1;31mSyntaxError\u001B[0m\u001B[1;31m:\u001B[0m '(' was never closed\n"
     ]
    }
   ],
   "source": [
    "def cluster_plot(d,k):\n",
    "    import matplotlib.pyplot as plt\n",
    "    plt.figure(figsize=(8,3))\n",
    "    for j in range(0,k):\n",
    "        plt.plot(data[d == j]. [j for i in d[d ==j]],'o')\n",
    "    plt.ylim(-0.5,k - 0.5)\n",
    "    return plt\n",
    "    "
   ]
  },
  {
   "cell_type": "code",
   "execution_count": null,
   "id": "d1edd07c-b1e6-4413-8f62-6f88f79b2608",
   "metadata": {
    "pycharm": {
     "name": "#%%\n"
    }
   },
   "outputs": [],
   "source": [
    "cluster_plot(d1,k).show()\n",
    "cluster_plot(d2.k).show()\n",
    "cluster_plot(d3,k).show()"
   ]
  }
 ],
 "metadata": {
  "kernelspec": {
   "display_name": "Python 3 (ipykernel)",
   "language": "python",
   "name": "python3"
  },
  "language_info": {
   "codemirror_mode": {
    "name": "ipython",
    "version": 3
   },
   "file_extension": ".py",
   "mimetype": "text/x-python",
   "name": "python",
   "nbconvert_exporter": "python",
   "pygments_lexer": "ipython3",
   "version": "3.11.4"
  }
 },
 "nbformat": 4,
 "nbformat_minor": 5
}