{
 "cells": [
  {
   "cell_type": "code",
   "execution_count": 1,
   "id": "ec766a47-7b8c-4218-b051-0cc736ddba63",
   "metadata": {
    "pycharm": {
     "name": "#%%\n"
    }
   },
   "outputs": [],
   "source": [
    "import pandas as pd\n",
    "import numpy as np"
   ]
  },
  {
   "cell_type": "code",
   "execution_count": 3,
   "id": "da957086-65c4-427d-9c45-39ab1c432b9f",
   "metadata": {
    "pycharm": {
     "name": "#%%\n"
    }
   },
   "outputs": [
    {
     "name": "stdout",
     "output_type": "stream",
     "text": [
      "     0    1    2     3\n",
      "0   78  521  602  2863\n",
      "1  144 -600 -521  2245\n",
      "2   95 -457  468 -1283\n",
      "3   69  596  695  1054\n",
      "4  190  527  691  2051\n",
      "5  101  403  470  2487\n",
      "6  146  413  435  2571\n"
     ]
    }
   ],
   "source": [
    "datafile = 'data/normalization_data.xls'\n",
    "data = pd.read_excel(datafile,header=None)\n",
    "print(data)"
   ]
  },
  {
   "cell_type": "code",
   "execution_count": 7,
   "id": "031d5c3d-6925-4b9e-8c62-6c45f929d7e1",
   "metadata": {
    "pycharm": {
     "name": "#%%\n"
    }
   },
   "outputs": [],
   "source": [
    "data1 = (data - data.min()) / (data.max() - data.min())\n",
    "data2 = (data - data.mean()) / data.std()\n",
    "data3 = data / 10 ** np.ceil(np.log10(data.abs().max()))"
   ]
  },
  {
   "cell_type": "code",
   "execution_count": 8,
   "id": "08df5407-ed98-4f4a-b3b9-7a85ed430222",
   "metadata": {
    "pycharm": {
     "name": "#%%\n"
    }
   },
   "outputs": [
    {
     "name": "stdout",
     "output_type": "stream",
     "text": [
      "          0         1         2         3\n",
      "0  0.074380  0.937291  0.923520  1.000000\n",
      "1  0.619835  0.000000  0.000000  0.850941\n",
      "2  0.214876  0.119565  0.813322  0.000000\n",
      "3  0.000000  1.000000  1.000000  0.563676\n",
      "4  1.000000  0.942308  0.996711  0.804149\n",
      "5  0.264463  0.838629  0.814967  0.909310\n",
      "6  0.636364  0.846990  0.786184  0.929571\n",
      "          0         1         2         3\n",
      "0 -0.905383  0.635863  0.464531  0.798149\n",
      "1  0.604678 -1.587675 -2.193167  0.369390\n",
      "2 -0.516428 -1.304030  0.147406 -2.078279\n",
      "3 -1.111301  0.784628  0.684625 -0.456906\n",
      "4  1.657146  0.647765  0.675159  0.234796\n",
      "5 -0.379150  0.401807  0.152139  0.537286\n",
      "6  0.650438  0.421642  0.069308  0.595564\n",
      "       0      1      2       3\n",
      "0  0.078  0.521  0.602  0.2863\n",
      "1  0.144 -0.600 -0.521  0.2245\n",
      "2  0.095 -0.457  0.468 -0.1283\n",
      "3  0.069  0.596  0.695  0.1054\n",
      "4  0.190  0.527  0.691  0.2051\n",
      "5  0.101  0.403  0.470  0.2487\n",
      "6  0.146  0.413  0.435  0.2571\n"
     ]
    }
   ],
   "source": [
    "print(data1)\n",
    "print(data2)\n",
    "print(data3)"
   ]
  },
  {
   "cell_type": "code",
   "execution_count": null,
   "id": "57d95221-a70e-48c7-994a-3b303313fc83",
   "metadata": {
    "pycharm": {
     "name": "#%%\n"
    }
   },
   "outputs": [],
   "source": []
  }
 ],
 "metadata": {
  "kernelspec": {
   "display_name": "Python 3 (ipykernel)",
   "language": "python",
   "name": "python3"
  },
  "language_info": {
   "codemirror_mode": {
    "name": "ipython",
    "version": 3
   },
   "file_extension": ".py",
   "mimetype": "text/x-python",
   "name": "python",
   "nbconvert_exporter": "python",
   "pygments_lexer": "ipython3",
   "version": "3.11.4"
  }
 },
 "nbformat": 4,
 "nbformat_minor": 5
}