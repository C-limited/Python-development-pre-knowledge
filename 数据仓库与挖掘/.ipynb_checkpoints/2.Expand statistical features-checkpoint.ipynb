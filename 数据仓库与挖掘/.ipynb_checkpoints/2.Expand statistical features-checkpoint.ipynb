{
 "cells": [
  {
   "cell_type": "code",
   "execution_count": 1,
   "id": "f3192b32-fd9e-411d-be54-dcdabc6bfc3f",
   "metadata": {},
   "outputs": [],
   "source": [
    "import pandas as pd\n",
    "import matplotlib.pyplot as plt"
   ]
  },
  {
   "cell_type": "code",
   "execution_count": 2,
   "id": "6f44e6f1-1f90-4942-84f7-7c38f7c0f809",
   "metadata": {},
   "outputs": [
    {
     "name": "stdout",
     "output_type": "stream",
     "text": [
      "<class 'pandas.core.frame.DataFrame'>\n"
     ]
    }
   ],
   "source": [
    "source = 'data/test_data.xlsx'\n",
    "data = pd.read_excel(source,index_col = 'ID')\n",
    "print(type(data))"
   ]
  },
  {
   "cell_type": "code",
   "execution_count": 4,
   "id": "957ce4b0-5d71-42bb-bf38-38c1c2e167bd",
   "metadata": {},
   "outputs": [
    {
     "name": "stdout",
     "output_type": "stream",
     "text": [
      "依次求前n个数的和\n",
      "     A  B  C  D\n",
      "ID             \n",
      "101  1  2  1  2\n",
      "102  4  4  2  4\n",
      "103  5  6  3  6\n",
      "104  6  8  4  8\n",
      "依次求n个数的积\n",
      "     A   B  C   D\n",
      "ID               \n",
      "101  1   2  1   2\n",
      "102  3   4  1   4\n",
      "103  3   8  1   8\n",
      "104  3  16  1  16\n",
      "依次求前n个数的最大值\n",
      "     A  B  C  D\n",
      "ID             \n",
      "101  1  2  1  2\n",
      "102  3  2  1  2\n",
      "103  3  2  1  2\n",
      "104  3  2  1  2\n",
      "依次求前n个数的最小值\n",
      "     A  B  C  D\n",
      "ID             \n",
      "101  1  2  1  2\n",
      "102  1  2  1  2\n",
      "103  1  2  1  2\n",
      "104  1  2  1  2\n"
     ]
    }
   ],
   "source": [
    "print(\"依次求前n个数的和\")\n",
    "print(data.cumsum())\n",
    "print(\"依次求前n个数的积\")\n",
    "print(data.cumprod())\n",
    "print(\"依次求前n个数的最大值\")\n",
    "print(data.cummax())\n",
    "print(\"依次求前n个数的最小值\")\n",
    "print(data.cummin())\n",
    "\n",
    "\n"
   ]
  },
  {
   "cell_type": "code",
   "execution_count": null,
   "id": "ad2a3702-0792-4db0-8b03-f7150d051480",
   "metadata": {},
   "outputs": [],
   "source": []
  }
 ],
 "metadata": {
  "kernelspec": {
   "display_name": "Python 3 (ipykernel)",
   "language": "python",
   "name": "python3"
  },
  "language_info": {
   "codemirror_mode": {
    "name": "ipython",
    "version": 3
   },
   "file_extension": ".py",
   "mimetype": "text/x-python",
   "name": "python",
   "nbconvert_exporter": "python",
   "pygments_lexer": "ipython3",
   "version": "3.11.4"
  }
 },
 "nbformat": 4,
 "nbformat_minor": 5
}
