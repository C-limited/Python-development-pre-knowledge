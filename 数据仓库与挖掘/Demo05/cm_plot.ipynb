{
 "cells": [
  {
   "cell_type": "code",
   "execution_count": null,
   "id": "87e6ccc1-d595-4aca-8a79-fce9c62d50ff",
   "metadata": {},
   "outputs": [],
   "source": [
    "def cm_plot(y, yp):\n",
    "  \n",
    "  from sklearn.metrics import confusion_matrix #导入混淆矩阵函数\n",
    "\n",
    "  cm = confusion_matrix(y, yp) #混淆矩阵\n",
    "  \n",
    "  import matplotlib.pyplot as plt #导入作图库\n",
    "  plt.matshow(cm, cmap=plt.cm.Greens) #画混淆矩阵图，配色风格使用cm.Greens，更多风格请参考官网。\n",
    "  plt.colorbar() #颜色标签\n",
    "  \n",
    "  for x in range(len(cm)): #数据标签\n",
    "    for y in range(len(cm)):\n",
    "      plt.annotate(cm[x,y], xy=(x, y), horizontalalignment='center', verticalalignment='center')\n",
    "  \n",
    "  plt.ylabel('True label') #坐标轴标签\n",
    "  plt.xlabel('Predicted label') #坐标轴标签\n",
    "  return plt"
   ]
  }
 ],
 "metadata": {
  "kernelspec": {
   "display_name": "Python 3 (ipykernel)",
   "language": "python",
   "name": "python3"
  },
  "language_info": {
   "codemirror_mode": {
    "name": "ipython",
    "version": 3
   },
   "file_extension": ".py",
   "mimetype": "text/x-python",
   "name": "python",
   "nbconvert_exporter": "python",
   "pygments_lexer": "ipython3",
   "version": "3.11.4"
  }
 },
 "nbformat": 4,
 "nbformat_minor": 5
}
