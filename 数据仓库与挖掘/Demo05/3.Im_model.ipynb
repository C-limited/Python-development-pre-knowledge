{
 "cells": [
  {
   "cell_type": "code",
   "execution_count": 1,
   "id": "5fc722a3-7182-4b7d-b4bf-fe8ce8098a0f",
   "metadata": {},
   "outputs": [],
   "source": [
    "#-*- coding: utf-8 -*-\n",
    "\n",
    "import pandas as pd\n",
    "from random import shuffle"
   ]
  },
  {
   "cell_type": "code",
   "execution_count": 4,
   "id": "a99fe47a-b5ea-4686-a9b6-1edbb69db748",
   "metadata": {},
   "outputs": [],
   "source": [
    "datafile = 'data/model.xls'\n",
    "data = pd.read_excel(datafile)\n",
    "data = data.values\n",
    "shuffle(data)"
   ]
  },
  {
   "cell_type": "code",
   "execution_count": 5,
   "id": "4db4deaf-81c0-4a24-83a2-678ee80821e5",
   "metadata": {},
   "outputs": [],
   "source": [
    "p = 0.8 #设置训练数据比例\n",
    "train = data[:int(len(data)*p),:]\n",
    "test = data[int(len(data)*p):,:]"
   ]
  },
  {
   "cell_type": "code",
   "execution_count": 6,
   "id": "b8d9f0f0-c752-4834-b2e9-c1dd440a9762",
   "metadata": {},
   "outputs": [],
   "source": [
    "#构建LM神经网络模型\n",
    "from keras.models import Sequential #导入神经网络初始化函数\n",
    "from keras.layers import Dense, Activation #导入神经网络层函数、激活函数"
   ]
  },
  {
   "cell_type": "code",
   "execution_count": null,
   "id": "3ace0ead-6516-4f40-97dd-d424861a7952",
   "metadata": {},
   "outputs": [],
   "source": []
  }
 ],
 "metadata": {
  "kernelspec": {
   "display_name": "Python 3 (ipykernel)",
   "language": "python",
   "name": "python3"
  },
  "language_info": {
   "codemirror_mode": {
    "name": "ipython",
    "version": 3
   },
   "file_extension": ".py",
   "mimetype": "text/x-python",
   "name": "python",
   "nbconvert_exporter": "python",
   "pygments_lexer": "ipython3",
   "version": "3.11.4"
  }
 },
 "nbformat": 4,
 "nbformat_minor": 5
}
