{
 "cells": [
  {
   "cell_type": "code",
   "execution_count": 1,
   "id": "8b84855d-d075-462c-b4ec-79a873fa4074",
   "metadata": {
    "pycharm": {
     "name": "#%%\n"
    }
   },
   "outputs": [],
   "source": [
    "import pandas as pd #导入数据分析库\n",
    "from random import shuffle #导入随机函数shuffle，用来打算数据"
   ]
  },
  {
   "cell_type": "code",
   "execution_count": 4,
   "id": "b9b5bb57-3770-470e-b4cd-b1316ea03d3c",
   "metadata": {
    "pycharm": {
     "name": "#%%\n"
    }
   },
   "outputs": [],
   "source": [
    "datafile = 'data/model.xlsx' #数据名\n",
    "data = pd.read_excel(datafile) #读取数据，数据的前三列是特征，第四列是标签\n",
    "data = data.values #将表格转换为矩阵\n",
    "shuffle(data) #随机打乱数据"
   ]
  },
  {
   "cell_type": "code",
   "execution_count": 5,
   "id": "e3da4444-440d-42b3-8198-e951ba380f1b",
   "metadata": {
    "pycharm": {
     "name": "#%%\n"
    }
   },
   "outputs": [],
   "source": [
    "p = 0.8 #设置训练数据比例\n",
    "train = data[:int(len(data)*p),:] #前80%为训练集\n",
    "test = data[int(len(data)*p):,:] #后20%为测试集"
   ]
  },
  {
   "cell_type": "code",
   "execution_count": null,
   "outputs": [],
   "source": [
    "#构建CART决策树模型\n",
    "from sklearn.tree import DecisionTreeClassifier #导入决策树模型\n",
    "\n",
    "tree = DecisionTreeClassifier() #建立决策树模型\n",
    "tree.fit(train[:,:3], train[:,3]) #训练\n",
    "\n",
    "from cm_plot import * #导入自行编写的混淆矩阵可视化函数\n",
    "cm_plot(train[:,3], tree.predict(train[:,:3])).show() #显示混淆矩阵可视化结果\n",
    "#注意到Scikit-Learn使用predict方法直接给出预测结果。"
   ],
   "metadata": {
    "collapsed": false,
    "pycharm": {
     "name": "#%%\n"
    }
   }
  },
  {
   "cell_type": "code",
   "execution_count": null,
   "outputs": [],
   "source": [
    "from sklearn.metrics import roc_curve #导入ROC曲线函数\n",
    "import matplotlib.pyplot as plt\n",
    "fpr, tpr, thresholds = roc_curve(test[:,3], tree.predict_proba(test[:,:3])[:,1], pos_label=1)\n",
    "plt.plot(fpr, tpr, linewidth=2, label = 'ROC of CART', color = 'green') #作出ROC曲线\n",
    "plt.xlabel('False Positive Rate') #坐标轴标签\n",
    "plt.ylabel('True Positive Rate') #坐标轴标签\n",
    "plt.ylim(0,1.05) #边界范围\n",
    "plt.xlim(0,1.05) #边界范围\n",
    "plt.legend(loc=4) #图例\n",
    "plt.show() #显示作图结果"
   ],
   "metadata": {
    "collapsed": false,
    "pycharm": {
     "name": "#%%\n"
    }
   }
  },
  {
   "cell_type": "code",
   "execution_count": null,
   "id": "63358fcf-cb99-477f-8a84-3adfae27dbcc",
   "metadata": {
    "pycharm": {
     "name": "#%%\n"
    }
   },
   "outputs": [],
   "source": [
    "from sklearn.metrics import roc_curve #导入ROC曲线函数\n",
    "import matplotlib.pyplot as plt\n",
    "fpr, tpr, thresholds = roc_curve(test[:,3], tree.predict_proba(test[:,:3])[:,1], pos_label=1)\n",
    "plt.plot(fpr, tpr, linewidth=2, label = 'ROC of CART', color = 'green') #作出ROC曲线\n",
    "plt.xlabel('False Positive Rate') #坐标轴标签\n",
    "plt.ylabel('True Positive Rate') #坐标轴标签\n",
    "plt.ylim(0,1.05) #边界范围\n",
    "plt.xlim(0,1.05) #边界范围\n",
    "plt.legend(loc=4) #图例\n",
    "plt.show() #显示作图结果"
   ]
  }
 ],
 "metadata": {
  "kernelspec": {
   "display_name": "Python 3 (ipykernel)",
   "language": "python",
   "name": "python3"
  },
  "language_info": {
   "codemirror_mode": {
    "name": "ipython",
    "version": 3
   },
   "file_extension": ".py",
   "mimetype": "text/x-python",
   "name": "python",
   "nbconvert_exporter": "python",
   "pygments_lexer": "ipython3",
   "version": "3.11.4"
  }
 },
 "nbformat": 4,
 "nbformat_minor": 5
}