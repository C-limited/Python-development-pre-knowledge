{
 "cells": [
  {
   "cell_type": "code",
   "execution_count": 1,
   "id": "a98a3c55-f1be-419a-8aab-92b09edf8eac",
   "metadata": {},
   "outputs": [],
   "source": [
    "import pandas as pd\n",
    "import numpy as np"
   ]
  },
  {
   "cell_type": "code",
   "execution_count": 2,
   "id": "9dca5384-4a69-42e6-9a53-fa658e7bfde6",
   "metadata": {},
   "outputs": [],
   "source": [
    "# 自定义连接函数，用于实现L_{k-1}到C_k的连接\n",
    "def connect_string(x, ms):\n",
    "    x = list(map(lambda i: sorted(i.split(ms)), x))\n",
    "    l = len(x[0])\n",
    "    r = []\n",
    "    for i in range(len(x)):\n",
    "        for j in range(i, len(x)):\n",
    "            if x[i][:l-1] == x[j][:l-1] and x[i][l-1] != x[j][l-1]:\n",
    "                r.append(x[i][:l-1] + sorted([x[j][l-1], x[i][l-1]]))\n",
    "    return r"
   ]
  },
  {
   "cell_type": "code",
   "execution_count": 4,
   "id": "1160bf04-f62a-48d0-ba73-47010d3a664a",
   "metadata": {},
   "outputs": [],
   "source": [
    "# 寻找关联规则的函数\n",
    "def find_rule(d, support, confidence, ms='--'):\n",
    "    result = pd.DataFrame(index=['support', 'confidence'])  # 定义输出结果\n",
    "\n",
    "    support_series = 1.0 * d.sum() / len(d)  # 支持度序列\n",
    "    column = list(support_series[support_series > support].index)  # 初步根据支持度筛选\n",
    "    print('\\n1-候选集：')\n",
    "    print(support_series)\n",
    "    print('\\n1-频繁集：')\n",
    "    print(support_series[support_series > support])\n",
    "    k = 1\n",
    "    while len(column) > 1:\n",
    "        k = k + 1\n",
    "        print('\\n正在进行第%s次搜索...' % k)\n",
    "        column = connect_string(column, ms)\n",
    "        print('数目：%s' % len(column))\n",
    "        if len(column) == 0:\n",
    "            break\n",
    "        sf = lambda i: d[i].prod(axis=1, numeric_only=True)  # 新一批支持度的计算函数\n",
    "\n",
    "        # 创建连接数据\n",
    "        d_2 = pd.DataFrame(list(map(sf, column)), index=[ms.join(i) for i in column]).T\n",
    "\n",
    "        support_series_2 = 1.0 * d_2[[ms.join(i) for i in column]].sum() / len(d)  # 计算连接后的支持度\n",
    "        print('\\n%s-候选集' % k)\n",
    "        print(support_series_2)\n",
    "        column = list(support_series_2[support_series_2 > support].index)  # 新一轮支持度筛选\n",
    "\n",
    "        support_series = pd.concat([support_series,support_series_2])\n",
    "        print('\\n%s-频繁集' % k)\n",
    "        print(support_series_2[support_series_2 > support])\n",
    "\n",
    "        column2 = []\n",
    "\n",
    "        for i in column:\n",
    "            column2.append(i.split(ms))\n",
    "\n",
    "        confidence_series = pd.Series(index=[ms.join(i) for i in column2],dtype=np.float64)  # 定义置信度序列\n",
    "\n",
    "        for i in column2:  # 计算置信度序列\n",
    "            confidence_series[ms.join(i)] = support_series[ms.join(sorted(i))] / support_series[ms.join(i[:len(i)-1])]\n",
    "\n",
    "        for i in confidence_series[confidence_series > confidence].index:  # 置信度筛选\n",
    "            result[i] = 0.0\n",
    "            result[i]['confidence'] = confidence_series[i]\n",
    "            result[i]['support'] = support_series[ms.join(sorted(i.split(ms)))]\n",
    "\n",
    "    result = result.T.sort_values(by=['confidence', 'support'], ascending=False)  # 结果整理，输出\n",
    "    print('\\n结果为：')\n",
    "    print(result)\n",
    "\n",
    "    return result"
   ]
  },
  {
   "cell_type": "code",
   "execution_count": null,
   "id": "4323dae6-31c3-42e5-a542-2947bc488704",
   "metadata": {},
   "outputs": [],
   "source": []
  }
 ],
 "metadata": {
  "kernelspec": {
   "display_name": "Python 3 (ipykernel)",
   "language": "python",
   "name": "python3"
  },
  "language_info": {
   "codemirror_mode": {
    "name": "ipython",
    "version": 3
   },
   "file_extension": ".py",
   "mimetype": "text/x-python",
   "name": "python",
   "nbconvert_exporter": "python",
   "pygments_lexer": "ipython3",
   "version": "3.11.4"
  }
 },
 "nbformat": 4,
 "nbformat_minor": 5
}
