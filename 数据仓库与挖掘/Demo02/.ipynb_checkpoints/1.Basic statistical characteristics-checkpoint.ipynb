{
 "cells": [
  {
   "cell_type": "code",
   "execution_count": 8,
   "id": "5a16f6f9-cdd5-4089-b919-240c002fb326",
   "metadata": {
    "pycharm": {
     "name": "#%%\n"
    }
   },
   "outputs": [],
   "source": [
    "import pandas as pd"
   ]
  },
  {
   "cell_type": "code",
   "execution_count": 11,
   "id": "a3b3cb0a-0a65-4d7f-a324-5a7ed74baaf5",
   "metadata": {
    "pycharm": {
     "name": "#%%\n"
    }
   },
   "outputs": [
    {
     "name": "stdout",
     "output_type": "stream",
     "text": [
      "打印数据类型\n",
      "<class 'pandas.core.frame.DataFrame'>\n"
     ]
    }
   ],
   "source": [
    "source='data/test_data.xlsx'\n",
    "data = pd.read_excel(source,index_col = 'ID')\n",
    "print(\"打印数据类型\")\n",
    "print(type(data))"
   ]
  },
  {
   "cell_type": "code",
   "execution_count": 12,
   "id": "fcf0852e-2905-4f81-9787-9a41c080cd59",
   "metadata": {
    "pycharm": {
     "name": "#%%\n"
    }
   },
   "outputs": [
    {
     "name": "stdout",
     "output_type": "stream",
     "text": [
      "打印数据类型\n",
      "<class 'pandas.core.series.Series'>\n"
     ]
    }
   ],
   "source": [
    "data_0 = data[\"A\"]\n",
    "print(\"打印数据类型\")\n",
    "print(type(data_0))\n"
   ]
  },
  {
   "cell_type": "code",
   "execution_count": 13,
   "id": "df0416eb-b125-4ec2-9240-414a6679788f",
   "metadata": {
    "pycharm": {
     "name": "#%%\n"
    }
   },
   "outputs": [
    {
     "name": "stdout",
     "output_type": "stream",
     "text": [
      "求和\n",
      "A    6\n",
      "B    8\n",
      "C    4\n",
      "D    8\n",
      "dtype: int64\n",
      "6\n"
     ]
    }
   ],
   "source": [
    "#求和\n",
    "print(\"求和\")\n",
    "print(data.sum())\n",
    "print(data_0.sum())"
   ]
  },
  {
   "cell_type": "code",
   "execution_count": 14,
   "id": "e1f4ff92-f1ea-45fb-80fe-d2a3387037ab",
   "metadata": {
    "pycharm": {
     "name": "#%%\n"
    }
   },
   "outputs": [
    {
     "name": "stdout",
     "output_type": "stream",
     "text": [
      "计算平均值\n",
      "<bound method NDFrame._add_numeric_operations.<locals>.mean of      A  B  C  D\n",
      "ID             \n",
      "101  1  2  1  2\n",
      "102  3  2  1  2\n",
      "103  1  2  1  2\n",
      "104  1  2  1  2>\n",
      "<bound method NDFrame._add_numeric_operations.<locals>.mean of ID\n",
      "101    1\n",
      "102    3\n",
      "103    1\n",
      "104    1\n",
      "Name: A, dtype: int64>\n"
     ]
    }
   ],
   "source": [
    "print(\"计算平均值\")\n",
    "print(data.mean)\n",
    "print(data_0.mean)\n"
   ]
  },
  {
   "cell_type": "code",
   "execution_count": 16,
   "id": "3678093b-f44b-4d8c-acb9-ea29e980941d",
   "metadata": {
    "pycharm": {
     "name": "#%%\n"
    }
   },
   "outputs": [
    {
     "name": "stdout",
     "output_type": "stream",
     "text": [
      "计算方差\n",
      "<bound method NDFrame._add_numeric_operations.<locals>.var of      A  B  C  D\n",
      "ID             \n",
      "101  1  2  1  2\n",
      "102  3  2  1  2\n",
      "103  1  2  1  2\n",
      "104  1  2  1  2>\n",
      "<bound method NDFrame._add_numeric_operations.<locals>.var of ID\n",
      "101    1\n",
      "102    3\n",
      "103    1\n",
      "104    1\n",
      "Name: A, dtype: int64>\n"
     ]
    }
   ],
   "source": [
    "print(\"计算方差\")\n",
    "print(data.var)\n",
    "print(data_0.var)"
   ]
  },
  {
   "cell_type": "code",
   "execution_count": 18,
   "id": "0f600251-db8a-469c-8c52-235dbf9285b7",
   "metadata": {
    "pycharm": {
     "name": "#%%\n"
    }
   },
   "outputs": [
    {
     "name": "stdout",
     "output_type": "stream",
     "text": [
      "计算标准差\n",
      "A    1.0\n",
      "B    0.0\n",
      "C    0.0\n",
      "D    0.0\n",
      "dtype: float64\n",
      "1.0\n"
     ]
    }
   ],
   "source": [
    "print(\"计算标准差\")\n",
    "print(data.std())\n",
    "print(data_0.std())\n"
   ]
  },
  {
   "cell_type": "code",
   "execution_count": 23,
   "id": "cbcfc6dc-9c25-448c-a64a-811f2821a2fb",
   "metadata": {
    "pycharm": {
     "name": "#%%\n"
    }
   },
   "outputs": [
    {
     "name": "stdout",
     "output_type": "stream",
     "text": [
      "计算相关系数\n",
      "     A   B   C   D\n",
      "A  1.0 NaN NaN NaN\n",
      "B  NaN NaN NaN NaN\n",
      "C  NaN NaN NaN NaN\n",
      "D  NaN NaN NaN NaN\n",
      "nan\n"
     ]
    }
   ],
   "source": [
    "print(\"计算相关系数\")\n",
    "print(data.corr(method='pearson'))\n",
    "print(data[\"A\"].corr(data[\"B\"]))\n"
   ]
  },
  {
   "cell_type": "code",
   "execution_count": 25,
   "id": "59fa078a-445e-4cea-9905-b5f09a409b79",
   "metadata": {
    "pycharm": {
     "name": "#%%\n"
    }
   },
   "outputs": [
    {
     "name": "stdout",
     "output_type": "stream",
     "text": [
      "计算协方差矩阵\n",
      "     A    B    C    D\n",
      "A  1.0  0.0  0.0  0.0\n",
      "B  0.0  0.0  0.0  0.0\n",
      "C  0.0  0.0  0.0  0.0\n",
      "D  0.0  0.0  0.0  0.0\n",
      "0.0\n"
     ]
    }
   ],
   "source": [
    "print(\"计算协方差矩阵\")\n",
    "print(data.cov())\n",
    "print(data.loc[101].cov(data.loc[102]))"
   ]
  },
  {
   "cell_type": "code",
   "execution_count": 26,
   "id": "cedc76bb-b13c-4271-8192-fd4b567cd181",
   "metadata": {
    "pycharm": {
     "name": "#%%\n"
    }
   },
   "outputs": [
    {
     "name": "stdout",
     "output_type": "stream",
     "text": [
      "计算阶矩\n",
      "A    2.0\n",
      "B    0.0\n",
      "C    0.0\n",
      "D    0.0\n",
      "dtype: float64\n",
      "4.0\n"
     ]
    }
   ],
   "source": [
    "print(\"计算阶矩\")\n",
    "print(data.skew())\n",
    "print(data_0.kurt())"
   ]
  },
  {
   "cell_type": "code",
   "execution_count": 28,
   "id": "1d2cbb77-e195-4656-bbc1-6818ec0df97b",
   "metadata": {
    "pycharm": {
     "name": "#%%\n"
    }
   },
   "outputs": [
    {
     "name": "stdout",
     "output_type": "stream",
     "text": [
      "基本统计量\n",
      "         A    B    C    D\n",
      "count  4.0  4.0  4.0  4.0\n",
      "mean   1.5  2.0  1.0  2.0\n",
      "std    1.0  0.0  0.0  0.0\n",
      "min    1.0  2.0  1.0  2.0\n",
      "25%    1.0  2.0  1.0  2.0\n",
      "50%    1.0  2.0  1.0  2.0\n",
      "75%    1.5  2.0  1.0  2.0\n",
      "max    3.0  2.0  1.0  2.0\n",
      "<class 'pandas.core.frame.DataFrame'>\n",
      "A    1.5\n",
      "B    2.0\n",
      "C    1.0\n",
      "D    2.0\n",
      "Name: mean, dtype: float64\n"
     ]
    }
   ],
   "source": [
    "print(\"基本统计量\")\n",
    "print(data.describe())\n",
    "print(type(data.describe()))\n",
    "print(data.describe().loc[\"mean\"])"
   ]
  },
  {
   "cell_type": "code",
   "execution_count": null,
   "id": "29163dc1-6289-4ea6-a304-01dcf597d606",
   "metadata": {
    "pycharm": {
     "name": "#%%\n"
    }
   },
   "outputs": [],
   "source": []
  }
 ],
 "metadata": {
  "kernelspec": {
   "display_name": "Python 3 (ipykernel)",
   "language": "python",
   "name": "python3"
  },
  "language_info": {
   "codemirror_mode": {
    "name": "ipython",
    "version": 3
   },
   "file_extension": ".py",
   "mimetype": "text/x-python",
   "name": "python",
   "nbconvert_exporter": "python",
   "pygments_lexer": "ipython3",
   "version": "3.11.4"
  }
 },
 "nbformat": 4,
 "nbformat_minor": 5
}