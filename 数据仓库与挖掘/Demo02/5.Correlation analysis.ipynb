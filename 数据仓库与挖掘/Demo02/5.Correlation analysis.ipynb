{
 "cells": [
  {
   "cell_type": "code",
   "execution_count": 12,
   "id": "409e3f3b-2f33-4f4b-96d3-01c7ac5b0805",
   "metadata": {
    "pycharm": {
     "name": "#%%\n"
    }
   },
   "outputs": [],
   "source": [
    "import pandas as pd\n",
    "import matplotlib.pyplot as plt\n",
    "source = 'data/catering_sale_all.xls'\n",
    "data = pd.read_excel(source,index_col = \"日期\")"
   ]
  },
  {
   "cell_type": "code",
   "execution_count": 13,
   "id": "f40c4f49-ab00-42a3-ad4f-44ccd5d3a91a",
   "metadata": {
    "pycharm": {
     "name": "#%%\n"
    }
   },
   "outputs": [
    {
     "name": "stdout",
     "output_type": "stream",
     "text": [
      "           百合酱蒸凤爪    翡翠蒸香茜饺   金银蒜汁蒸排骨     乐膳真味鸡     蜜汁焗餐包      生炒菜心    铁板酸菜豆腐  \\\n",
      "百合酱蒸凤爪   1.000000  0.009206  0.016799  0.455638  0.098085  0.308496  0.204898   \n",
      "翡翠蒸香茜饺   0.009206  1.000000  0.304434 -0.012279  0.058745 -0.180446 -0.026908   \n",
      "金银蒜汁蒸排骨  0.016799  0.304434  1.000000  0.035135  0.096218 -0.184290  0.187272   \n",
      "乐膳真味鸡    0.455638 -0.012279  0.035135  1.000000  0.016006  0.325462  0.297692   \n",
      "蜜汁焗餐包    0.098085  0.058745  0.096218  0.016006  1.000000  0.308454  0.502025   \n",
      "生炒菜心     0.308496 -0.180446 -0.184290  0.325462  0.308454  1.000000  0.369787   \n",
      "铁板酸菜豆腐   0.204898 -0.026908  0.187272  0.297692  0.502025  0.369787  1.000000   \n",
      "香煎韭菜饺    0.127448  0.062344  0.121543 -0.068866  0.155428  0.038233  0.095543   \n",
      "香煎罗卜糕   -0.090276  0.270276  0.077808 -0.030222  0.171005  0.049898  0.157958   \n",
      "原汁原味菜心   0.428316  0.020462  0.029074  0.421878  0.527844  0.122988  0.567332   \n",
      "\n",
      "            香煎韭菜饺     香煎罗卜糕    原汁原味菜心  \n",
      "百合酱蒸凤爪   0.127448 -0.090276  0.428316  \n",
      "翡翠蒸香茜饺   0.062344  0.270276  0.020462  \n",
      "金银蒜汁蒸排骨  0.121543  0.077808  0.029074  \n",
      "乐膳真味鸡   -0.068866 -0.030222  0.421878  \n",
      "蜜汁焗餐包    0.155428  0.171005  0.527844  \n",
      "生炒菜心     0.038233  0.049898  0.122988  \n",
      "铁板酸菜豆腐   0.095543  0.157958  0.567332  \n",
      "香煎韭菜饺    1.000000  0.178336  0.049689  \n",
      "香煎罗卜糕    0.178336  1.000000  0.088980  \n",
      "原汁原味菜心   0.049689  0.088980  1.000000  \n",
      "百合酱蒸凤爪     1.000000\n",
      "翡翠蒸香茜饺     0.009206\n",
      "金银蒜汁蒸排骨    0.016799\n",
      "乐膳真味鸡      0.455638\n",
      "蜜汁焗餐包      0.098085\n",
      "生炒菜心       0.308496\n",
      "铁板酸菜豆腐     0.204898\n",
      "香煎韭菜饺      0.127448\n",
      "香煎罗卜糕     -0.090276\n",
      "原汁原味菜心     0.428316\n",
      "Name: 百合酱蒸凤爪, dtype: float64\n",
      "0.009205803051836475\n"
     ]
    }
   ],
   "source": [
    "#计算相关系数矩阵\n",
    "print(data.corr())\n",
    "#计算指定对象与其他之间的相关系数\n",
    "print(data.corr()['百合酱蒸凤爪'])\n",
    "#计算两者之间的相关系数\n",
    "print(data['百合酱蒸凤爪'].corr(data['翡翠蒸香茜饺']))"
   ]
  },
  {
   "cell_type": "code",
   "execution_count": 14,
   "id": "09a3d16c-ceb2-4977-8408-8a5451ff68e8",
   "metadata": {
    "pycharm": {
     "name": "#%%\n"
    }
   },
   "outputs": [],
   "source": [
    "#计算相关系数矩阵\n",
    "correlation_matrix = data.corr()\n"
   ]
  },
  {
   "cell_type": "code",
   "execution_count": 15,
   "id": "902f05b9-fe90-4325-a181-cda271ce04cb",
   "metadata": {
    "pycharm": {
     "name": "#%%\n"
    }
   },
   "outputs": [
    {
     "data": {
      "image/png": "[encoded data removed]",
      "text/plain": [
       "<Figure size 640x480 with 1 Axes>"
      ]
     },
     "metadata": {},
     "output_type": "display_data"
    }
   ],
   "source": [
    "#绘制相关性热力图\n",
    "fig, ax = plt.subplots()\n",
    "heatmap = ax.imshow(correlation_matrix,cmap='coolwarm')\n"
   ]
  },
  {
   "cell_type": "code",
   "execution_count": 16,
   "id": "d631689b-b3ae-48c9-aeec-bebc5b1b779f",
   "metadata": {
    "pycharm": {
     "name": "#%%\n"
    }
   },
   "outputs": [
    {
     "data": {
      "text/plain": [
       "<matplotlib.colorbar.Colorbar at 0x1777de0f710>"
      ]
     },
     "execution_count": 16,
     "metadata": {},
     "output_type": "execute_result"
    },
    {
     "data": {
      "image/png": "[encoded data removed]",
      "text/plain": [
       "<Figure size 640x480 with 1 Axes>"
      ]
     },
     "metadata": {},
     "output_type": "display_data"
    }
   ],
   "source": [
    "#添加颜色刻度条\n",
    "plt.colorbar(heatmap)"
   ]
  },
  {
   "cell_type": "code",
   "execution_count": 17,
   "id": "387e7496-a69d-479f-979d-cdcc71cf70d4",
   "metadata": {
    "pycharm": {
     "name": "#%%\n"
    }
   },
   "outputs": [
    {
     "data": {
      "text/plain": [
       "[Text(0, 0, '百合酱蒸凤爪'),\n",
       " Text(0, 1, '翡翠蒸香茜饺'),\n",
       " Text(0, 2, '金银蒜汁蒸排骨'),\n",
       " Text(0, 3, '乐膳真味鸡'),\n",
       " Text(0, 4, '蜜汁焗餐包'),\n",
       " Text(0, 5, '生炒菜心'),\n",
       " Text(0, 6, '铁板酸菜豆腐'),\n",
       " Text(0, 7, '香煎韭菜饺'),\n",
       " Text(0, 8, '香煎罗卜糕'),\n",
       " Text(0, 9, '原汁原味菜心')]"
      ]
     },
     "execution_count": 17,
     "metadata": {},
     "output_type": "execute_result"
    }
   ],
   "source": [
    "#设置坐标轴标签\n",
    "ax.set_xticks(range(len(correlation_matrix.columns)))\n",
    "ax.set_yticks(range(len(correlation_matrix.columns)))\n",
    "ax.set_xticklabels(correlation_matrix.columns,rotation = 45)\n",
    "ax.set_yticklabels(correlation_matrix.columns)"
   ]
  },
  {
   "cell_type": "code",
   "execution_count": 18,
   "id": "0a4feb89-77d6-4780-8804-1f74dc9408dd",
   "metadata": {
    "pycharm": {
     "name": "#%%\n"
    }
   },
   "outputs": [],
   "source": [
    "#在热图上添加数值标签\n",
    "for i in range(len(correlation_matrix.columns)):\n",
    "    for j in range(len(correlation_matrix.columns)):\n",
    "        text = ax.text(j,i,\"{:.2f}\".format(correlation_matrix.iloc[i,j]),ha=\"center\",va=\"center\",color=\"w\")\n",
    "#显示热图\n",
    "plt.show()"
   ]
  },
  {
   "cell_type": "code",
   "execution_count": null,
   "id": "8d24aea2-c473-4160-ae0f-552504d7924b",
   "metadata": {
    "pycharm": {
     "name": "#%%\n"
    }
   },
   "outputs": [],
   "source": []
  }
 ],
 "metadata": {
  "kernelspec": {
   "display_name": "Python 3 (ipykernel)",
   "language": "python",
   "name": "python3"
  },
  "language_info": {
   "codemirror_mode": {
    "name": "ipython",
    "version": 3
   },
   "file_extension": ".py",
   "mimetype": "text/x-python",
   "name": "python",
   "nbconvert_exporter": "python",
   "pygments_lexer": "ipython3",
   "version": "3.11.4"
  }
 },
 "nbformat": 4,
 "nbformat_minor": 5
}