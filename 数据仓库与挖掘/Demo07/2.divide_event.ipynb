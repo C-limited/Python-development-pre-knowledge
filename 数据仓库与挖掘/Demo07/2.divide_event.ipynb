{
 "cells": [
  {
   "cell_type": "code",
   "execution_count": 1,
   "id": "f6a35132-6a7b-42be-98cd-27045a9b7593",
   "metadata": {},
   "outputs": [],
   "source": [
    "#用水事件划分\n",
    "import pandas as pd\n"
   ]
  },
  {
   "cell_type": "code",
   "execution_count": 3,
   "id": "3298d767-9708-4604-ac80-031a03f68d68",
   "metadata": {},
   "outputs": [],
   "source": [
    "threshold = pd.Timedelta('4 min') #阈值为分钟\n",
    "inputfile = 'data/water_heater.xlsx' #输入数据路径,需要使用Excel格式\n",
    "outputfile = 'tmp/dividsequence.xlsx' #输出数据路径,需要使用Excel格式\n"
   ]
  },
  {
   "cell_type": "code",
   "execution_count": 4,
   "id": "9b435642-d7e0-4868-a479-eead9c9765fc",
   "metadata": {},
   "outputs": [],
   "source": [
    "data = pd.read_excel(inputfile)\n",
    "data[u'发生时间'] = pd.to_datetime(data[u'发生时间'], format = '%Y%m%d%H%M%S')\n",
    "data = data[data[u'水流量'] > 0] #只要流量大于0的记录\n",
    "d = data[u'发生时间'].diff() > threshold #相邻时间作差分，比较是否大于阈值\n",
    "data[u'事件编号'] = d.cumsum() + 1 #通过累积求和的方式为事件编号\n",
    "\n",
    "data.to_excel(outputfile)"
   ]
  },
  {
   "cell_type": "code",
   "execution_count": null,
   "id": "4d5003e8-f490-49d7-9b9e-4cdbd10f5f1b",
   "metadata": {},
   "outputs": [],
   "source": []
  }
 ],
 "metadata": {
  "kernelspec": {
   "display_name": "Python 3 (ipykernel)",
   "language": "python",
   "name": "python3"
  },
  "language_info": {
   "codemirror_mode": {
    "name": "ipython",
    "version": 3
   },
   "file_extension": ".py",
   "mimetype": "text/x-python",
   "name": "python",
   "nbconvert_exporter": "python",
   "pygments_lexer": "ipython3",
   "version": "3.11.4"
  }
 },
 "nbformat": 4,
 "nbformat_minor": 5
}
