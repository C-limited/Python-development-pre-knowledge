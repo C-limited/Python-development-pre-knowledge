{
 "cells": [
  {
   "cell_type": "code",
   "execution_count": 1,
   "id": "01ef8df8-e26a-4c26-9865-9e81e4cae85e",
   "metadata": {},
   "outputs": [],
   "source": [
    "import pandas as pd\n",
    "import numpy as np"
   ]
  },
  {
   "cell_type": "code",
   "execution_count": 3,
   "id": "61614a04-b4ae-40f9-a93d-8a42de7950a4",
   "metadata": {},
   "outputs": [],
   "source": [
    "data = pd.read_excel('data/original_data.xls')\n",
    "data[u'发生时间'] = pd.to_datetime(data[u'发生时间'], format='%Y%m%d%H%M%S')  # 将该特征转成日期时间格式（***）\n",
    "data = data[data[u'水流量'] > 0]  # 只要流量大于0的记录\n",
    "# print len(data) #7679"
   ]
  },
  {
   "cell_type": "code",
   "execution_count": 4,
   "id": "7d344613-ac71-48a7-9c15-a6827e43047f",
   "metadata": {},
   "outputs": [
    {
     "name": "stdout",
     "output_type": "stream",
     "text": [
      "       热水器编号                发生时间 开关机状态 加热中 保温中 有无水流  实际温度 热水量  水流量 节能模式  \\\n",
      "2    R_00001 2014-10-19 07:01:56     关   关   关    无  30°C  0%    8    关   \n",
      "56   R_00001 2014-10-19 07:38:16     关   关   关    无  30°C  0%    8    关   \n",
      "381  R_00001 2014-10-19 09:46:38     关   关   关    无  29°C  0%   16    关   \n",
      "382  R_00001 2014-10-19 09:46:40     关   关   关    无  29°C  0%   13    关   \n",
      "384  R_00001 2014-10-19 09:47:15     关   关   关    有  29°C  0%   20    关   \n",
      "\n",
      "    加热剩余时间 当前设置温度    用水停顿时间间隔  \n",
      "2      0分钟   50°C    0.000000  \n",
      "56     0分钟   50°C   36.333333  \n",
      "381    0分钟   50°C  128.366667  \n",
      "382    0分钟   50°C    0.033333  \n",
      "384    0分钟   50°C    0.583333  \n",
      "                          最小值                  最大值  空值数\n",
      "发生时间      2014-10-19 07:01:56  2014-11-10 22:49:07    0\n",
      "水流量                       8.0                 77.0  0.0\n",
      "用水停顿时间间隔                  0.0          2093.366667  0.0\n"
     ]
    }
   ],
   "source": [
    "data[u'用水停顿时间间隔'] = data[u'发生时间'].diff() / np.timedelta64(1, 'm')  # 将datetime64[ns]转成 以分钟为单位（*****）\n",
    "data = data.fillna(0)  # 替换掉data[u'用水停顿时间间隔']的第一个空值\n",
    "print(data.head())\n",
    "data_explore = data.describe().T\n",
    "data_explore['null'] = len(data)-data_explore['count']\n",
    "explore = data_explore[['min','max','null']]\n",
    "explore.columns = [u'最小值',u'最大值',u'空值数']\n",
    "print(explore)"
   ]
  },
  {
   "cell_type": "code",
   "execution_count": null,
   "id": "a62e78f4-0e2f-4a04-b096-a53160e3406f",
   "metadata": {},
   "outputs": [],
   "source": []
  }
 ],
 "metadata": {
  "kernelspec": {
   "display_name": "Python 3 (ipykernel)",
   "language": "python",
   "name": "python3"
  },
  "language_info": {
   "codemirror_mode": {
    "name": "ipython",
    "version": 3
   },
   "file_extension": ".py",
   "mimetype": "text/x-python",
   "name": "python",
   "nbconvert_exporter": "python",
   "pygments_lexer": "ipython3",
   "version": "3.11.4"
  }
 },
 "nbformat": 4,
 "nbformat_minor": 5
}
