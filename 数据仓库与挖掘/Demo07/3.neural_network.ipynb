{
 "cells": [
  {
   "cell_type": "code",
   "execution_count": 1,
   "id": "5531d65b-34ec-4242-8acb-20eaecbe0111",
   "metadata": {},
   "outputs": [],
   "source": [
    "#建立、训练多层神经网络，并完成模型的检验\n",
    "import pandas as pd"
   ]
  },
  {
   "cell_type": "code",
   "execution_count": 2,
   "id": "b87d9b18-ff02-4042-ba37-ec3a516a9235",
   "metadata": {},
   "outputs": [],
   "source": [
    "inputfile1='data/train_neural_network_data.xls' #训练数据\n",
    "inputfile2='data/test_neural_network_data.xls' #测试数据\n",
    "testoutputfile = 'tmp/test_output_data.xlsx' #测试数据模型输出文件\n",
    "data_train = pd.read_excel(inputfile1) #读入训练数据(由日志标记事件是否为洗浴)\n",
    "data_test = pd.read_excel(inputfile2) #读入测试数据(由日志标记事件是否为洗浴)\n",
    "y_train = data_train.iloc[:,4].values #训练样本标签列\n",
    "x_train = data_train.iloc[:,5:17].values #训练样本特征\n",
    "y_test = data_test.iloc[:,4].values #测试样本标签列\n",
    "x_test = data_test.iloc[:,5:17].values #测试样本特征"
   ]
  },
  {
   "cell_type": "code",
   "execution_count": 3,
   "id": "b2c6879e-7007-4fba-9de9-8e5753cdbea4",
   "metadata": {},
   "outputs": [],
   "source": [
    "from keras.models import Sequential\n",
    "from keras.layers import Dense,BatchNormalization,Dropout"
   ]
  },
  {
   "cell_type": "code",
   "execution_count": 4,
   "id": "409fef80-2e97-45d5-bdc2-06585a2faca6",
   "metadata": {},
   "outputs": [],
   "source": [
    "#编译模型，损失函数为binary_crossentropy，用adam法求解\n",
    "# 创建一个Sequential模型对象，构建一个顺序的神经网络模型。\n",
    "model = Sequential([Dense(20, activation='relu', input_shape=(11,)),#添加一个全连接层(Dense层)。该层具有20个神经元，\n",
    "                                                                        # 激活函数为ReLU(Rectified Linear Unit)，\n",
    "                                                                        # 并且指定输入形状为(11,)，即输入数据的特征维度为11。\n",
    "                    BatchNormalization(),#添加一个批量归一化层。该层用于在训练过程中对输入进行归一化，有助于提高模型的稳定性和训练速度。\n",
    "                    Dropout(0.2),#添加一个Dropout层。该层用于在训练过程中以指定的概率(此处为0.2)随机丢弃部分神经元的输出，以防止过拟合。\n",
    "                    Dense(10, activation='relu'),#再次添加一个全连接层。该层具有10个神经元，激活函数为ReLU。\n",
    "                    BatchNormalization(),#再次添加一个批量归一化层。\n",
    "                    Dropout(0.2),#再次添加一个Dropout层。\n",
    "                    Dense(1, activation='sigmoid')])#添加最后一层全连接层。该层具有一个神经元，激活函数为Sigmoid。\n",
    "                                                        # 这是一个二分类问题的输出层，Sigmoid函数可以将输出限制在0到1之间，表示概率。\n"
   ]
  },
  {
   "cell_type": "code",
   "execution_count": 6,
   "id": "9fd236dc-3c7a-4a04-87f1-e4a428c1d3c1",
   "metadata": {
    "scrolled": true
   },
   "outputs": [
    {
     "name": "stdout",
     "output_type": "stream",
     "text": [
      "Model: \"sequential\"\n",
      "_________________________________________________________________\n",
      " Layer (type)                Output Shape              Param #   \n",
      "=================================================================\n",
      " dense (Dense)               (None, 20)                240       \n",
      "                                                                 \n",
      " batch_normalization (Batch  (None, 20)                80        \n",
      " Normalization)                                                  \n",
      "                                                                 \n",
      " dropout (Dropout)           (None, 20)                0         \n",
      "                                                                 \n",
      " dense_1 (Dense)             (None, 10)                210       \n",
      "                                                                 \n",
      " batch_normalization_1 (Bat  (None, 10)                40        \n",
      " chNormalization)                                                \n",
      "                                                                 \n",
      " dropout_1 (Dropout)         (None, 10)                0         \n",
      "                                                                 \n",
      " dense_2 (Dense)             (None, 1)                 11        \n",
      "                                                                 \n",
      "=================================================================\n",
      "Total params: 581 (2.27 KB)\n",
      "Trainable params: 521 (2.04 KB)\n",
      "Non-trainable params: 60 (240.00 Byte)\n",
      "_________________________________________________________________\n"
     ]
    }
   ],
   "source": [
    "model.summary()\n",
    "model.compile(loss='binary_crossentropy', optimizer='adam', metrics=['accuracy'])"
   ]
  },
  {
   "cell_type": "code",
   "execution_count": 7,
   "id": "2e64e440-8ab0-405b-ba22-60e7fb09f205",
   "metadata": {},
   "outputs": [
    {
     "name": "stdout",
     "output_type": "stream",
     "text": [
      "Epoch 1/30\n",
      "28/28 [==============================] - 1s 963us/step - loss: 0.6852 - accuracy: 0.7500\n",
      "Epoch 2/30\n",
      "28/28 [==============================] - 0s 926us/step - loss: 0.6664 - accuracy: 0.7857\n",
      "Epoch 3/30\n",
      "28/28 [==============================] - 0s 852us/step - loss: 0.6480 - accuracy: 0.7857\n",
      "Epoch 4/30\n",
      "28/28 [==============================] - 0s 852us/step - loss: 0.6306 - accuracy: 0.7857\n",
      "Epoch 5/30\n",
      "28/28 [==============================] - 0s 852us/step - loss: 0.6076 - accuracy: 0.7857\n",
      "Epoch 6/30\n",
      "28/28 [==============================] - 0s 852us/step - loss: 0.5977 - accuracy: 0.7857\n",
      "Epoch 7/30\n",
      "28/28 [==============================] - 0s 852us/step - loss: 0.5818 - accuracy: 0.7857\n",
      "Epoch 8/30\n",
      "28/28 [==============================] - 0s 852us/step - loss: 0.5745 - accuracy: 0.7857\n",
      "Epoch 9/30\n",
      "28/28 [==============================] - 0s 889us/step - loss: 0.5647 - accuracy: 0.7857\n",
      "Epoch 10/30\n",
      "28/28 [==============================] - 0s 889us/step - loss: 0.5619 - accuracy: 0.7857\n",
      "Epoch 11/30\n",
      "28/28 [==============================] - 0s 815us/step - loss: 0.5504 - accuracy: 0.7857\n",
      "Epoch 12/30\n",
      "28/28 [==============================] - 0s 926us/step - loss: 0.5559 - accuracy: 0.7857\n",
      "Epoch 13/30\n",
      "28/28 [==============================] - 0s 815us/step - loss: 0.5468 - accuracy: 0.7857\n",
      "Epoch 14/30\n",
      "28/28 [==============================] - 0s 889us/step - loss: 0.5691 - accuracy: 0.7857\n",
      "Epoch 15/30\n",
      "28/28 [==============================] - 0s 852us/step - loss: 0.5304 - accuracy: 0.7857\n",
      "Epoch 16/30\n",
      "28/28 [==============================] - 0s 852us/step - loss: 0.5476 - accuracy: 0.7857\n",
      "Epoch 17/30\n",
      "28/28 [==============================] - 0s 852us/step - loss: 0.5541 - accuracy: 0.7857\n",
      "Epoch 18/30\n",
      "28/28 [==============================] - 0s 852us/step - loss: 0.5288 - accuracy: 0.7857\n",
      "Epoch 19/30\n",
      "28/28 [==============================] - 0s 889us/step - loss: 0.5314 - accuracy: 0.7857\n",
      "Epoch 20/30\n",
      "28/28 [==============================] - 0s 852us/step - loss: 0.5279 - accuracy: 0.7857\n",
      "Epoch 21/30\n",
      "28/28 [==============================] - 0s 852us/step - loss: 0.5239 - accuracy: 0.7857\n",
      "Epoch 22/30\n",
      "28/28 [==============================] - 0s 889us/step - loss: 0.5464 - accuracy: 0.7857\n",
      "Epoch 23/30\n",
      "28/28 [==============================] - 0s 852us/step - loss: 0.4969 - accuracy: 0.7857\n",
      "Epoch 24/30\n",
      "28/28 [==============================] - 0s 889us/step - loss: 0.5277 - accuracy: 0.7857\n",
      "Epoch 25/30\n",
      "28/28 [==============================] - 0s 889us/step - loss: 0.5196 - accuracy: 0.7857\n",
      "Epoch 26/30\n",
      "28/28 [==============================] - 0s 889us/step - loss: 0.5182 - accuracy: 0.7857\n",
      "Epoch 27/30\n",
      "28/28 [==============================] - 0s 1ms/step - loss: 0.5464 - accuracy: 0.7857\n",
      "Epoch 28/30\n",
      "28/28 [==============================] - 0s 1ms/step - loss: 0.5205 - accuracy: 0.7857\n",
      "Epoch 29/30\n",
      "28/28 [==============================] - 0s 988us/step - loss: 0.5093 - accuracy: 0.7857\n",
      "Epoch 30/30\n",
      "28/28 [==============================] - 0s 889us/step - loss: 0.5198 - accuracy: 0.7857\n"
     ]
    }
   ],
   "source": [
    "model.fit(x_train, y_train, epochs = 30, batch_size = 1) #训练模型\n",
    "# model.save_weights('../model/net.model') #保存模型参数\n",
    "model.save_weights('net.model')"
   ]
  },
  {
   "cell_type": "code",
   "execution_count": 8,
   "id": "f34c6792-9b34-423a-a211-023000faa6b9",
   "metadata": {},
   "outputs": [
    {
     "name": "stdout",
     "output_type": "stream",
     "text": [
      "1/1 [==============================] - 0s 111ms/step\n",
      "1/1 [==============================] - 0s 13ms/step\n"
     ]
    },
    {
     "data": {
      "text/plain": [
       "array([[1.],\n",
       "       [0.],\n",
       "       [0.],\n",
       "       [0.],\n",
       "       [1.],\n",
       "       [0.],\n",
       "       [0.],\n",
       "       [0.],\n",
       "       [1.],\n",
       "       [0.],\n",
       "       [0.],\n",
       "       [0.],\n",
       "       [1.],\n",
       "       [0.],\n",
       "       [1.],\n",
       "       [0.],\n",
       "       [1.],\n",
       "       [0.],\n",
       "       [0.],\n",
       "       [0.],\n",
       "       [1.]], dtype=float32)"
      ]
     },
     "execution_count": 8,
     "metadata": {},
     "output_type": "execute_result"
    }
   ],
   "source": [
    "r = pd.DataFrame(model.predict(x_test), columns = [u'预测结果'])\n",
    "pd.concat([data_test.iloc[:,:5], r], axis = 1).to_excel(testoutputfile)\n",
    "model.predict(x_test)\n"
   ]
  },
  {
   "cell_type": "code",
   "execution_count": null,
   "id": "2b27b4d4-a78d-43ae-b704-f32277f92cf7",
   "metadata": {},
   "outputs": [],
   "source": []
  }
 ],
 "metadata": {
  "kernelspec": {
   "display_name": "Python 3 (ipykernel)",
   "language": "python",
   "name": "python3"
  },
  "language_info": {
   "codemirror_mode": {
    "name": "ipython",
    "version": 3
   },
   "file_extension": ".py",
   "mimetype": "text/x-python",
   "name": "python",
   "nbconvert_exporter": "python",
   "pygments_lexer": "ipython3",
   "version": "3.11.4"
  }
 },
 "nbformat": 4,
 "nbformat_minor": 5
}
