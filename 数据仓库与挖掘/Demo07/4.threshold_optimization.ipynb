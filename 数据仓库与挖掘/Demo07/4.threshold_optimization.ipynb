{
 "cells": [
  {
   "cell_type": "code",
   "execution_count": 1,
   "id": "496b4847-fe7b-4f83-bef2-19f7699e46fc",
   "metadata": {},
   "outputs": [],
   "source": [
    "#阈值寻优\n",
    "import numpy as np\n",
    "import pandas as pd\n"
   ]
  },
  {
   "cell_type": "code",
   "execution_count": 4,
   "id": "0808be2a-9ddb-4a54-bb54-49d6dd53244d",
   "metadata": {},
   "outputs": [],
   "source": [
    "inputfile = 'data/water_heater.xlsx' #输入数据路径,需要使用Excel格式\n",
    "n = 4 #使用以后四个点的平均斜率"
   ]
  },
  {
   "cell_type": "code",
   "execution_count": 5,
   "id": "99488c62-67bf-4ecf-a61d-4660ad8c605d",
   "metadata": {},
   "outputs": [],
   "source": [
    "threshold = pd.Timedelta(minutes = 5) #专家阈值\n",
    "data = pd.read_excel(inputfile)\n",
    "data[u'发生时间'] = pd.to_datetime(data[u'发生时间'], format = '%Y%m%d%H%M%S')\n",
    "data = data[data[u'水流量'] > 0] #只要流量大于0的记录"
   ]
  },
  {
   "cell_type": "code",
   "execution_count": 6,
   "id": "f57b0c6c-5393-4bc8-aefa-ae194b88d625",
   "metadata": {},
   "outputs": [],
   "source": [
    "def event_num(ts):\n",
    "  d = data[u'发生时间'].diff() > ts #相邻时间作差分，比较是否大于阈值\n",
    "  return d.sum() + 1 #这样直接返回事件数"
   ]
  },
  {
   "cell_type": "code",
   "execution_count": 7,
   "id": "c199a475-1ea6-43d3-b587-59216810a233",
   "metadata": {},
   "outputs": [],
   "source": [
    "dt = [pd.Timedelta(minutes = i) for i in np.arange(1, 9, 0.25)]\n",
    "h = pd.DataFrame(dt, columns = [u'阈值']) #定义阈值列\n",
    "h[u'事件数'] = h[u'阈值'].apply(event_num) #计算每个阈值对应的事件数\n",
    "h[u'斜率'] = h[u'事件数'].diff()/0.25 #计算每两个相邻点对应的斜率\n",
    "h[u'斜率指标'] = h[u'斜率'].abs().rolling(n).mean() #采用后n个的斜率绝对值平均作为斜率指标\n",
    "ts = h[u'阈值'][h[u'斜率指标'].idxmin() - n]\n",
    "#注：用idxmin返回最小值的Index，由于rolling_mean()自动计算的是前n个斜率的绝对值平均\n",
    "#所以结果要进行平移（-n）\n"
   ]
  },
  {
   "cell_type": "code",
   "execution_count": 8,
   "id": "78d63ec2-a1e1-4dbb-aeda-e75eea61a526",
   "metadata": {},
   "outputs": [
    {
     "name": "stdout",
     "output_type": "stream",
     "text": [
      "0 days 00:04:00\n"
     ]
    }
   ],
   "source": [
    "if ts > threshold:\n",
    "  ts = pd.Timedelta(minutes = 4)\n",
    "\n",
    "print(ts)\n"
   ]
  },
  {
   "cell_type": "code",
   "execution_count": null,
   "id": "5a91edc9-690c-4b96-8b32-390c52fea5ff",
   "metadata": {},
   "outputs": [],
   "source": []
  }
 ],
 "metadata": {
  "kernelspec": {
   "display_name": "Python 3 (ipykernel)",
   "language": "python",
   "name": "python3"
  },
  "language_info": {
   "codemirror_mode": {
    "name": "ipython",
    "version": 3
   },
   "file_extension": ".py",
   "mimetype": "text/x-python",
   "name": "python",
   "nbconvert_exporter": "python",
   "pygments_lexer": "ipython3",
   "version": "3.11.4"
  }
 },
 "nbformat": 4,
 "nbformat_minor": 5
}
